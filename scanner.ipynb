{
 "cells": [
  {
   "cell_type": "code",
   "execution_count": null,
   "metadata": {
    "collapsed": true
   },
   "outputs": [],
   "source": [
    "class Scanner:\n",
    "    def __init__(self):\n",
    "        self.__line_split = None\n",
    "        self.__pointer = None\n",
    "        \n",
    "    def next_int(self):\n",
    "        try:\n",
    "            next_str = self._next_str()\n",
    "            ret = int(next_str)\n",
    "            return ret\n",
    "        except ValueError:\n",
    "            return None\n",
    "        \n",
    "    def _next_str(self):\n",
    "        if not self.__line_split or self.__pointer >= len(self.__line_split):\n",
    "            self.__line_split = self.__next_line_str().split\n",
    "            self.__pointer = 0\n",
    "        \n",
    "        if not self.__line_split:\n",
    "            return ''\n",
    "        \n",
    "        next_one = self.__line_split[self.__pointer]\n",
    "        self.__pointer += 1\n",
    "        return str(next_one)\n",
    "        \n",
    "    def __next_line_str(self):\n",
    "        self.__line_split = None\n",
    "        self.__pointer = None\n",
    "        line = str(raw_input())\n",
    "        return line\n",
    "    \n",
    "    def main():\n",
    "        scanner = Scanner()\n",
    "        while True:\n",
    "            x = scanner.next_int()\n",
    "            if x is None:\n",
    "                break"
   ]
  }
 ],
 "metadata": {
  "kernelspec": {
   "display_name": "Python 2",
   "language": "python",
   "name": "python2"
  },
  "language_info": {
   "codemirror_mode": {
    "name": "ipython",
    "version": 2
   },
   "file_extension": ".py",
   "mimetype": "text/x-python",
   "name": "python",
   "nbconvert_exporter": "python",
   "pygments_lexer": "ipython2",
   "version": "2.7.13"
  }
 },
 "nbformat": 4,
 "nbformat_minor": 2
}
