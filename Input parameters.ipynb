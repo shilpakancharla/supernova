{
 "cells": [
  {
   "cell_type": "code",
   "execution_count": 1,
   "metadata": {
    "collapsed": true
   },
   "outputs": [],
   "source": [
    "import math"
   ]
  },
  {
   "cell_type": "code",
   "execution_count": 21,
   "metadata": {},
   "outputs": [
    {
     "name": "stdout",
     "output_type": "stream",
     "text": [
      "<enumerate object at 0x10596c370>\n",
      "<enumerate object at 0x1058db410>\n",
      "<enumerate object at 0x1058db370>\n",
      "<enumerate object at 0x1058db6e0>\n"
     ]
    }
   ],
   "source": [
    "#Enumeration - mass ordering\n",
    "massOrdering = ['NMO', 'IMO']\n",
    "enumMassOrdering = enumerate(massOrdering)\n",
    "print(enumMassOrdering)\n",
    "\n",
    "#Enumeration - progenitor\n",
    "progenitor = ['ONeMg', 'Fe']\n",
    "enumProgenitor = enumerate(progenitor)\n",
    "print(enumProgenitor)\n",
    "\n",
    "#Enumeration - matter type\n",
    "matterType = ['matter', 'antimatter']\n",
    "enumMatterType = enumerate(matterType)\n",
    "print(enumMatterType)\n",
    "\n",
    "#Enumeraiton  - flavor\n",
    "flavor = ['electron', 'mu', 'tau']\n",
    "enumFlavor = enumerate(flavor)\n",
    "print(enumFlavor)"
   ]
  },
  {
   "cell_type": "code",
   "execution_count": 25,
   "metadata": {},
   "outputs": [
    {
     "name": "stdout",
     "output_type": "stream",
     "text": [
      "What is the luminosity of electron neutrinos?: 65756\n",
      "What is the luminosity of electron antineutrinos?: 5464\n",
      "What is the luminosity of mu neutrinos?: 4523\n",
      "What is the luminosity of mu antineutrinos?: 324\n",
      "What is the luminosity of tau neutrinos?: 3424235\n",
      "What is the luminosity of tau antineutrinos?: 32423\n",
      "What is the mean energy of electron neutrinos?: 423432\n",
      "What is the mean energy of electron antineutrinos?: 3423423\n",
      "What is the mean energy of mu neutrinos?: 23413545\n",
      "What is the mean energy of mu antineutrinos?: 1453\n",
      "What is the mean energy of tau neutrinos?: 4145234\n",
      "What is the mean energy of tau antineutrinos?: 4534\n",
      "[[65756.0, 423432.0], [5464.0, 3423423.0], [4523.0, 23413545.0], [324.0, 1453.0], [3424235.0, 4145234.0], [32423.0, 4534.0]]\n"
     ]
    }
   ],
   "source": [
    "#Prompts user input\n",
    "#Global variables - luminosities & mean energies (will depend on progenitor)\n",
    "luminosity_e = float(raw_input(\"What is the luminosity of electron neutrinos?: \"))\n",
    "luminosity_anti_e = float(raw_input(\"What is the luminosity of electron antineutrinos?: \"))\n",
    "luminosity_mu = float(raw_input(\"What is the luminosity of mu neutrinos?: \"))\n",
    "luminosity_anti_mu = float(raw_input(\"What is the luminosity of mu antineutrinos?: \"))\n",
    "luminosity_tau = float(raw_input(\"What is the luminosity of tau neutrinos?: \"))\n",
    "luminosity_anti_tau = float(raw_input(\"What is the luminosity of tau antineutrinos?: \"))\n",
    "meanEnergy_e = float(raw_input(\"What is the mean energy of electron neutrinos?: \"))\n",
    "meanEnergy_anti_e = float(raw_input(\"What is the mean energy of electron antineutrinos?: \"))\n",
    "meanEnergy_mu = float(raw_input(\"What is the mean energy of mu neutrinos?: \"))\n",
    "meanEnergy_anti_mu = float(raw_input(\"What is the mean energy of mu antineutrinos?: \"))\n",
    "meanEnergy_tau = float(raw_input(\"What is the mean energy of tau neutrinos?: \"))\n",
    "meanEnergy_anti_tau = float(raw_input(\"What is the mean energy of tau antineutrinos?: \"))\n",
    "\n",
    "#Create 2D arrays for luminosity & mean energies\n",
    "lumEnergy = [[luminosity_e, meanEnergy_e], [luminosity_anti_e, meanEnergy_anti_e],\n",
    "            [luminosity_mu, meanEnergy_mu], [luminosity_anti_mu, meanEnergy_anti_mu],\n",
    "            [luminosity_tau, meanEnergy_tau], [luminosity_anti_tau, meanEnergy_anti_tau]]\n",
    "print(lumEnergy)"
   ]
  },
  {
   "cell_type": "code",
   "execution_count": null,
   "metadata": {
    "collapsed": true
   },
   "outputs": [],
   "source": [
    "#Prompts user input\n",
    "\n",
    "#distance between supernova and detector on Earth\n",
    "dist = float(raw_input(\"What is the distance between the supernova and Earth? (kpc): \"))\n",
    "\n",
    "#progenitor type, prompt user to enter either 'ONeMg' or 'Fe', still need to make case insensitive \n",
    "p = raw_input(\"What is the progenitor type? Please enter either 'ONeMg' or 'Fe': \")\n",
    "\n",
    "#compactness, prompt user to enter either 2.5 or 5 \n",
    "comp = float(raw_input(\"What is the compactness? Please enter either 2.5 or 5: \"))\n",
    "\n",
    "#accretion timescale - units? \n",
    "timeAcc = float(raw_input(\"What is the accretion timescale? \"))\n",
    "\n",
    "#stiffness parameter prompt \n",
    "stiff = float(raw_input(\"What is the stiffness parameter? \"))\n",
    "\n",
    "#prompt user to enter either NMO or IMO, still need to make case insensitive \n",
    "mass_ordering = raw_input(\"What is the mass ordering? Please enter either NMO or IMO: \")"
   ]
  },
  {
   "cell_type": "code",
   "execution_count": 5,
   "metadata": {
    "collapsed": true
   },
   "outputs": [],
   "source": [
    "#Factorial definition\n",
    "def factorial(n):\n",
    "    if n == 0:\n",
    "        return 1\n",
    "    else:\n",
    "        return n * factorial(n - 1)"
   ]
  },
  {
   "cell_type": "code",
   "execution_count": 26,
   "metadata": {},
   "outputs": [
    {
     "name": "stdout",
     "output_type": "stream",
     "text": [
      "[[3, 3], [2, 2], [2, 2]]\n"
     ]
    }
   ],
   "source": [
    "#2D array of spectral pinching parameters\n",
    "alpha_e = 3 #electron neutrino\n",
    "alpha_anti_e = 3 #electron antineutrino\n",
    "alpha_mu = 2 #mu neutrino, tau neutrino, \n",
    "alpha_anti_mu = 2 #mu antineutrino, tau antineutrino\n",
    "alpha_tau = 2 #mu neutrino, tau neutrino, \n",
    "alpha_anti_tau = 2 #mu antineutrino, tau antineutrino\n",
    "alpha = [[alpha_e, alpha_anti_e], [alpha_mu, alpha_anti_mu], [alpha_tau, alpha_anti_tau]]\n",
    "print(alpha)"
   ]
  },
  {
   "cell_type": "code",
   "execution_count": 27,
   "metadata": {
    "collapsed": true
   },
   "outputs": [],
   "source": [
    "#Float range\n",
    "def frange(start, stop, step = 1):\n",
    "    while start < stop:\n",
    "        yield start\n",
    "        start +=step"
   ]
  },
  {
   "cell_type": "code",
   "execution_count": 28,
   "metadata": {},
   "outputs": [
    {
     "name": "stdout",
     "output_type": "stream",
     "text": [
      "1\t2.0611121335e-22\t4.95788076084e-28\t2.03184981203e-25\t9.79308753434e-10\t1.56567208894e-19\t1.03362788362e-09\n",
      "2\t1.64887413044e-21\t3.96629997436e-27\t8.12739820675e-25\t3.9091554669e-09\t6.26268382332e-19\t4.12598384096e-09\n",
      "3\t5.56489762053e-21\t1.33862467727e-26\t1.82866436221e-24\t8.77745831546e-09\t1.40910284045e-18\t9.26431590682e-09\n",
      "4\t1.31907438254e-20\t3.1730325646e-26\t3.2509584496e-24\t1.55721853304e-08\t2.50506990337e-18\t1.64359247376e-08\n",
      "5\t2.57629281602e-20\t6.19732198666e-26\t5.07962192665e-24\t2.42813542279e-08\t3.91416889125e-18\t2.56281634305e-08\n",
      "6\t4.45179193151e-20\t1.07089598804e-25\t7.31465463714e-24\t3.4893032238e-08\t5.63639912421e-18\t3.68284373428e-08\n",
      "7\t7.06921392559e-20\t1.70054117924e-25\t9.95605642487e-24\t4.73953359345e-08\t7.67175992238e-18\t5.00242039126e-08\n",
      "8\t1.05521963225e-19\t2.53841418791e-25\t1.30038271336e-23\t6.17764310647e-08\t1.00202506059e-17\t6.52029724791e-08\n",
      "9\t1.50243719744e-19\t3.61426129066e-25\t1.64579666072e-23\t7.80245323807e-08\t1.2681870495e-17\t8.23523041042e-08\n",
      "10\t2.06093690611e-19\t4.95782862508e-25\t2.03184746895e-23\t9.612790347e-08\t1.56566189096e-17\t1.01459811394e-07\n",
      "11\t2.74308110907e-19\t6.59886218973e-25\t2.45853512241e-23\t1.16074856588e-07\t1.89444951701e-17\t1.22513158322e-07\n",
      "12\t3.56123168994e-19\t8.56710784413e-25\t2.9258596055e-23\t1.37853752488e-07\t2.25454985965e-17\t1.45500060051e-07\n",
      "13\t4.52775006514e-19\t1.08923113088e-24\t3.43382090258e-23\t1.61453000259e-07\t2.64596285089e-17\t1.70408282757e-07\n",
      "14\t5.65499718395e-19\t1.36042181652e-24\t3.98241899805e-23\t1.86861057154e-07\t3.06868842276e-17\t1.97225643454e-07\n",
      "15\t6.95533352849e-19\t1.67325738559e-24\t4.57165387628e-23\t2.14066428424e-07\t3.52272650726e-17\t2.25940009817e-07\n",
      "16\t8.44111911374e-19\t2.03071236842e-24\t5.20152552164e-23\t2.43057667157e-07\t4.00807703641e-17\t2.5653930001e-07\n",
      "17\t1.01247134875e-18\t2.43576128145e-24\t5.87203391853e-23\t2.73823374107e-07\t4.52473994223e-17\t2.89011482508e-07\n",
      "18\t1.20184757306e-18\t2.89137862724e-24\t6.58317905131e-23\t3.06352197535e-07\t5.07271515672e-17\t3.23344575925e-07\n",
      "19\t1.41347644565e-18\t3.4005388944e-24\t7.33496090437e-23\t3.40632833039e-07\t5.65200261191e-17\t3.59526648842e-07\n"
     ]
    }
   ],
   "source": [
    "#Functions\n",
    "\n",
    "#Overall number of neutrinos emitted\n",
    "ratio_e = lumEnergy[0][0] / lumEnergy[0][1]\n",
    "ratio_anti_e = lumEnergy[1][0] / lumEnergy[1][1]\n",
    "ratio_mu = lumEnergy[2][0] / lumEnergy[2][1]\n",
    "ratio_anti_mu = lumEnergy[3][0] / lumEnergy[3][1]\n",
    "ratio_tau = lumEnergy[4][0] / lumEnergy[4][1]\n",
    "ratio_anti_tau = lumEnergy[5][0] / lumEnergy[5][1]\n",
    "\n",
    "#First numerators\n",
    "num_e = (alpha[0][0] + 1) ** (alpha[0][0] + 1)\n",
    "num_anti_e = (alpha[0][1] + 1) ** (alpha[0][1] + 1)\n",
    "num_mu = (alpha[1][0] + 1) ** (alpha[1][0] + 1)\n",
    "num_anti_mu = (alpha[1][1] + 1) ** (alpha[1][1] + 1)\n",
    "num_tau = (alpha[2][0] + 1) ** (alpha[2][0] + 1)\n",
    "num_anti_tau = (alpha[2][1] + 1) ** (alpha[2][1] + 1)\n",
    "\n",
    "#First denominators, with gamma functions - option to use math.factorial from package?\n",
    "den_e = lumEnergy[0][1] * factorial(alpha[0][0])\n",
    "den_anti_e = lumEnergy[1][1] * factorial(alpha[0][1])\n",
    "den_mu = lumEnergy[2][1] * factorial(alpha[1][0])\n",
    "den_anti_mu = lumEnergy[3][1] * factorial(alpha[1][1])\n",
    "den_tau = lumEnergy[4][1] * factorial(alpha[2][0])\n",
    "den_anti_tau = lumEnergy[5][1] * factorial(alpha[2][1])\n",
    "\n",
    "#First part of equation\n",
    "frac_e = (num_e) / (den_e)\n",
    "frac_anti_e = (num_anti_e) / (den_anti_e)\n",
    "frac_mu = (num_mu) / (den_mu)\n",
    "frac_anti_mu = (num_anti_mu) / (den_anti_mu)\n",
    "frac_tau = (num_tau) / (den_tau)\n",
    "frac_anti_tau = (num_anti_tau) / (den_anti_tau)\n",
    "\n",
    "#Creating a textfile called 'data.txt,' will create a new one to write into if it doesn't exist\n",
    "f = open(\"data.txt\", \"w+\")\n",
    "\n",
    "#File-output for energies of neutrinos (tab delimited) - will output from for loop\n",
    "#Can change start, stop, and step later - first testing to see if for loop works and writes a text file\n",
    "for E in frange(1, 20, 1): \n",
    "    flux_e = (ratio_e) * (frac_e) * ((E / lumEnergy[0][1]) ** alpha[0][0]) * math.exp(-((alpha[0][0] + 1) * E) / lumEnergy[0][1])\n",
    "    flux_anti_e = (ratio_anti_e) * (frac_anti_e) * ((E / lumEnergy[1][1]) ** alpha[0][1]) * math.exp(-((alpha[0][1] + 1) * E) / lumEnergy[1][1])\n",
    "    flux_mu = (ratio_mu) * (frac_mu) * ((E / lumEnergy[2][1]) ** alpha[1][0]) * math.exp(-((alpha[1][0] + 1) * E) / lumEnergy[2][1])\n",
    "    flux_anti_mu = (ratio_anti_mu) * (frac_anti_mu) * ((E / lumEnergy[3][1]) ** alpha[1][1]) * math.exp(-((alpha[1][1] + 1) * E) / lumEnergy[3][1])\n",
    "    flux_tau = (ratio_tau) * (frac_tau) * ((E / lumEnergy[4][1]) ** alpha[2][0]) * math.exp(-((alpha[2][0] + 1) * E) / lumEnergy[4][1])\n",
    "    flux_anti_tau = (ratio_anti_tau) * (frac_anti_tau) * ((E / lumEnergy[5][1]) ** alpha[2][1]) * math.exp(-((alpha[2][1] + 1) * E) / lumEnergy[5][1])\n",
    "    print(str(E)+ '\\t' + str(flux_e) + '\\t' + str(flux_anti_e) + '\\t' + str(flux_mu) + '\\t' + str(flux_anti_mu) + '\\t' + str(flux_tau) + '\\t' + str(flux_anti_tau))\n",
    "    stringData = str(E)+ '\\t' + str(flux_e) + '\\t' + str(flux_anti_e) + '\\t' + str(flux_mu) + '\\t' + str(flux_anti_mu) + '\\t' + str(flux_tau) + '\\t' + str(flux_anti_tau)\n",
    "    file = open(\"data.txt\", \"a\")\n",
    "    file.write(stringData + '\\n')\n",
    "    file.close()\n"
   ]
  },
  {
   "cell_type": "code",
   "execution_count": null,
   "metadata": {
    "collapsed": true
   },
   "outputs": [],
   "source": []
  }
 ],
 "metadata": {
  "kernelspec": {
   "display_name": "Python 2",
   "language": "python",
   "name": "python2"
  },
  "language_info": {
   "codemirror_mode": {
    "name": "ipython",
    "version": 2
   },
   "file_extension": ".py",
   "mimetype": "text/x-python",
   "name": "python",
   "nbconvert_exporter": "python",
   "pygments_lexer": "ipython2",
   "version": "2.7.13"
  }
 },
 "nbformat": 4,
 "nbformat_minor": 2
}
