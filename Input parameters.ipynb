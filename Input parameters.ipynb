{
 "cells": [
  {
   "cell_type": "code",
   "execution_count": null,
   "metadata": {
    "collapsed": true
   },
   "outputs": [],
   "source": [
    "dist = float(input(\"dist: \")) #distance between supernova and detector on Earth\n",
    "p = input(\"p: \") #progenitor type, prompt user to enter either 'ONeMg' or 'Fe', case sensitive\n",
    "comp = float(input(\"comp: \")) #compactness, prompt user to enter either 2.5 or 5\n",
    "mass_ordering = input(\"mass_ordering: \") #prompt user to enter either NMO or IMO, case sensitive"
   ]
  }
 ],
 "metadata": {
  "kernelspec": {
   "display_name": "Python 2",
   "language": "python",
   "name": "python2"
  },
  "language_info": {
   "codemirror_mode": {
    "name": "ipython",
    "version": 2
   },
   "file_extension": ".py",
   "mimetype": "text/x-python",
   "name": "python",
   "nbconvert_exporter": "python",
   "pygments_lexer": "ipython2",
   "version": "2.7.13"
  }
 },
 "nbformat": 4,
 "nbformat_minor": 2
}
