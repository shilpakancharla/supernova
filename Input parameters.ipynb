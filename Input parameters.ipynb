{
 "cells": [
  {
   "cell_type": "code",
   "execution_count": null,
   "metadata": {
    "collapsed": true
   },
   "outputs": [],
   "source": [
    "import math\n",
    "import matplotlib.pyplot as plt"
   ]
  },
  {
   "cell_type": "code",
   "execution_count": null,
   "metadata": {
    "collapsed": true
   },
   "outputs": [],
   "source": [
    "#Enumeration - mass ordering\n",
    "massOrdering = ['NMO', 'IMO']\n",
    "enumMassOrdering = enumerate(massOrdering)\n",
    "\n",
    "#Enumeration - progenitor\n",
    "progenitor = ['ONeMg', 'Fe']\n",
    "enumProgenitor = enumerate(progenitor)\n",
    "\n",
    "#Enumeration - matter type\n",
    "matterType = ['matter', 'antimatter']\n",
    "enumMatterType = enumerate(matterType)\n",
    "\n",
    "#Enumeraiton  - flavor\n",
    "flavor = ['electron', 'mu', 'tau']\n",
    "enumFlavor = enumerate(flavor)"
   ]
  },
  {
   "cell_type": "code",
   "execution_count": null,
   "metadata": {
    "collapsed": true
   },
   "outputs": [],
   "source": [
    "#Prompts user input\n",
    "#Global variables - luminosities & mean energies (will depend on progenitor)\n",
    "L_e = float(raw_input(\"What is the luminosity of electron neutrinos?: \"))\n",
    "L_anti_e = float(raw_input(\"What is the luminosity of electron antineutrinos?: \"))\n",
    "L_mu = float(raw_input(\"What is the luminosity of mu neutrinos?: \"))\n",
    "L_anti_mu = float(raw_input(\"What is the luminosity of mu antineutrinos?: \"))\n",
    "L_tau = float(raw_input(\"What is the luminosity of tau neutrinos?: \"))\n",
    "L_anti_tau = float(raw_input(\"What is the luminosity of tau antineutrinos?: \"))\n",
    "meanE_e = float(raw_input(\"What is the mean energy of electron neutrinos?: \"))\n",
    "meanE_anti_e = float(raw_input(\"What is the mean energy of electron antineutrinos?: \"))\n",
    "meanE_mu = float(raw_input(\"What is the mean energy of mu neutrinos?: \"))\n",
    "meanE_anti_mu = float(raw_input(\"What is the mean energy of mu antineutrinos?: \"))\n",
    "meanE_tau = float(raw_input(\"What is the mean energy of tau neutrinos?: \"))\n",
    "meanE_anti_tau = float(raw_input(\"What is the mean energy of tau antineutrinos?: \"))\n",
    "\n",
    "#Create 2D arrays for luminosity & mean energies\n",
    "L = [[L_e, L_anti_e], [L_mu, L_anti_mu], [L_tau, L_anti_tau]]\n",
    "meanE = [[meanE_e, meanE_anti_e], [meanE_mu, meanE_anti_mu], [meanE_tau, meanE_anti_tau]]\n",
    "print(L)\n",
    "print(meanE)"
   ]
  },
  {
   "cell_type": "code",
   "execution_count": null,
   "metadata": {
    "collapsed": true
   },
   "outputs": [],
   "source": [
    "#Prompts user input\n",
    "\n",
    "#distance between supernova and detector on Earth\n",
    "dist = float(raw_input(\"What is the distance between the supernova and Earth? (kpc): \"))\n",
    "\n",
    "#progenitor type, prompt user to enter either 'ONeMg' or 'Fe', still need to make case insensitive \n",
    "p = raw_input(\"What is the progenitor type? Please enter either 'ONeMg' or 'Fe': \")\n",
    "\n",
    "#compactness, prompt user to enter either 2.5 or 5 \n",
    "comp = float(raw_input(\"What is the compactness? Please enter either 2.5 or 5: \"))\n",
    "\n",
    "#accretion timescale - units? \n",
    "timeAcc = float(raw_input(\"What is the accretion timescale? \"))\n",
    "\n",
    "#stiffness parameter prompt \n",
    "stiff = float(raw_input(\"What is the stiffness parameter? \"))\n",
    "\n",
    "#prompt user to enter either NMO or IMO, still need to make case insensitive \n",
    "mass_ordering = raw_input(\"What is the mass ordering? Please enter either NMO or IMO: \")"
   ]
  },
  {
   "cell_type": "code",
   "execution_count": 5,
   "metadata": {
    "collapsed": true
   },
   "outputs": [],
   "source": [
    "#Factorial definition\n",
    "def factorial(n):\n",
    "    if n == 0:\n",
    "        return 1\n",
    "    else:\n",
    "        return n * factorial(n - 1)"
   ]
  },
  {
   "cell_type": "code",
   "execution_count": 6,
   "metadata": {},
   "outputs": [
    {
     "name": "stdout",
     "output_type": "stream",
     "text": [
      "[[3, 3], [2, 2], [2, 2]]\n"
     ]
    }
   ],
   "source": [
    "#2D array of spectral pinching parameters\n",
    "alpha_e = 3 #electron neutrino\n",
    "alpha_anti_e = 3 #electron antineutrino\n",
    "alpha_mu = 2 #mu neutrino, tau neutrino, \n",
    "alpha_anti_mu = 2 #mu antineutrino, tau antineutrino\n",
    "alpha_tau = 2 #mu neutrino, tau neutrino, \n",
    "alpha_anti_tau = 2 #mu antineutrino, tau antineutrino\n",
    "alpha = [[alpha_e, alpha_anti_e], [alpha_mu, alpha_anti_mu], [alpha_tau, alpha_anti_tau]]\n",
    "print(alpha)"
   ]
  },
  {
   "cell_type": "code",
   "execution_count": 7,
   "metadata": {
    "collapsed": true
   },
   "outputs": [],
   "source": [
    "#Float range\n",
    "def frange(start, stop, step = 0.0002):\n",
    "    while start < stop:\n",
    "        yield start\n",
    "        start +=step"
   ]
  },
  {
   "cell_type": "code",
   "execution_count": null,
   "metadata": {
    "collapsed": true
   },
   "outputs": [],
   "source": [
    "#Functions\n",
    "\n",
    "#Creating a textfile called 'data.txt,' will create a new one to write into if it doesn't exist\n",
    "f = open(\"data.txt\", \"w+\")\n",
    "#File-output for energies of neutrinos (tab delimited) - will output from for loop\n",
    "#Can change start, stop, and step later - first testing to see if for loop works and writes a text file\n",
    "for E in frange(0, 0.1002, 0.0002): \n",
    "    flux_e = (L[0][0] / meanE[0][0]) * ((alpha[0][0] + 1) ** (alpha[0][0] + 1)) / (meanE[0][0] * factorial(alpha[0][0])) * ((E / meanE[0][0]) ** alpha[0][0]) * math.exp(-((alpha[0][0] + 1) * E) / meanE[0][0])\n",
    "    flux_anti_e = (L[0][1] / meanE[0][1]) * ((alpha[0][1] + 1) ** (alpha[0][1] + 1)) / (meanE[0][1] * factorial(alpha[0][1])) * ((E / meanE[0][1]) ** alpha[0][1]) * math.exp(-((alpha[0][1] + 1) * E) / meanE[0][1])\n",
    "    flux_mu = (L[1][0] / meanE[1][0]) * ((alpha[1][0] + 1) ** (alpha[1][0] + 1)) / (meanE[1][0] * factorial(alpha[1][0])) * ((E / meanE[1][0]) ** alpha[1][0]) * math.exp(-((alpha[1][0] + 1) * E) / meanE[1][0])\n",
    "    flux_anti_mu = (L[1][1] / meanE[1][1]) * ((alpha[1][1] + 1) ** (alpha[1][1] + 1)) / (meanE[1][1] * factorial(alpha[1][1])) * ((E / meanE[1][1]) ** alpha[1][1]) * math.exp(-((alpha[1][1] + 1) * E) / meanE[1][1])\n",
    "    flux_tau = (L[2][0] / meanE[2][0]) * ((alpha[2][0] + 1) ** (alpha[2][0] + 1)) / (meanE[2][0] * factorial(alpha[2][0])) * ((E / meanE[2][0]) ** alpha[2][0]) * math.exp(-((alpha[2][0] + 1) * E) / meanE[2][0])\n",
    "    flux_anti_tau = (L[2][1] / meanE[2][1]) * ((alpha[2][1] + 1) ** (alpha[2][1] + 1)) / (meanE[2][1] * factorial(alpha[2][1])) * ((E / meanE[2][1]) ** alpha[2][1]) * math.exp(-((alpha[2][1] + 1) * E) / meanE[2][1])\n",
    "    print(str(E)+ '\\t' + str(flux_e) + '\\t' + str(flux_anti_e) + '\\t' + str(flux_mu) + '\\t' + str(flux_anti_mu) + '\\t' + str(flux_tau) + '\\t' + str(flux_anti_tau))\n",
    "    stringData = str(E)+ '\\t' + str(flux_e) + '\\t' + str(flux_anti_e) + '\\t' + str(flux_mu) + '\\t' + str(flux_anti_mu) + '\\t' + str(flux_tau) + '\\t' + str(flux_anti_tau)\n",
    "    file = open(\"data.txt\", \"a\")\n",
    "    file.write(stringData + '\\n')\n",
    "    file.close()"
   ]
  },
  {
   "cell_type": "code",
   "execution_count": null,
   "metadata": {
    "collapsed": true
   },
   "outputs": [],
   "source": [
    "#Plotting energy and flux of neutrinos/antineutrinos\n",
    "f = open(\"data.txt\")\n",
    "\n",
    "lines = f.readlines()\n",
    "\n",
    "E = []\n",
    "flux_e = []\n",
    "flux_anti_e = []\n",
    "flux_mu = []\n",
    "flux_anti_mu = []\n",
    "flux_tau = []\n",
    "flux_anti_tau = []\n",
    "\n",
    "for line in lines:\n",
    "    E.append(line.split()[0])\n",
    "    \n",
    "for line in lines:\n",
    "    flux_e.append(line.split()[1])\n",
    "    \n",
    "for line in lines:\n",
    "    flux_anti_e.append(line.split()[2])\n",
    "    \n",
    "for line in lines:\n",
    "    flux_mu.append(line.split()[3])\n",
    "    \n",
    "for line in lines:\n",
    "    flux_anti_mu.append(line.split()[4])\n",
    "\n",
    "for line in lines:\n",
    "    flux_tau.append(line.split()[5])\n",
    "    \n",
    "for line in lines:\n",
    "    flux_anti_tau.append(line.split()[6])\n",
    "    \n",
    "f.close()\n",
    "plt.figure()\n",
    "plt.plot(E, flux_e, 'pink', label=\"Electron neutrino\")\n",
    "plt.plot(E, flux_anti_e, 'mediumpurple', label=\"Electron antineutrino\")\n",
    "plt.plot(E, flux_mu, 'lightskyblue', label=\"Mu neutrino\")\n",
    "plt.plot(E, flux_anti_mu, 'silver', label=\"Mu antineutrino\")\n",
    "plt.plot(E, flux_tau, 'gold', label=\"Tau neutrino\")\n",
    "plt.plot(E, flux_anti_tau, 'red', label=\"Tau antineutrino\")\n",
    "plt.legend(bbox_to_anchor=(1.05, 1), loc=2, borderaxespad=0.)\n",
    "plt.title('Neutrino Spectra_001')\n",
    "plt.xlabel(\"Energy\")\n",
    "plt.ylabel(\"Flux\")\n",
    "plt.grid()\n",
    "plt.show()"
   ]
  },
  {
   "cell_type": "code",
   "execution_count": null,
   "metadata": {
    "collapsed": true
   },
   "outputs": [],
   "source": []
  }
 ],
 "metadata": {
  "kernelspec": {
   "display_name": "Python 2",
   "language": "python",
   "name": "python2"
  },
  "language_info": {
   "codemirror_mode": {
    "name": "ipython",
    "version": 2
   },
   "file_extension": ".py",
   "mimetype": "text/x-python",
   "name": "python",
   "nbconvert_exporter": "python",
   "pygments_lexer": "ipython2",
   "version": "2.7.13"
  }
 },
 "nbformat": 4,
 "nbformat_minor": 2
}
