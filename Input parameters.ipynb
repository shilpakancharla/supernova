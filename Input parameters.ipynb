{
 "cells": [
  {
   "cell_type": "code",
   "execution_count": null,
   "metadata": {
    "collapsed": true
   },
   "outputs": [],
   "source": [
    "#Enumeration - mass ordering\n",
    "massOrdering = ['NMO', 'IMO']\n",
    "enumMassOrdering = enumerate(massOrdering)\n",
    "\n",
    "#Enumeration - progenitor\n",
    "progenitor = ['ONeMg', 'Fe']\n",
    "enumProgenitor = enumerate(progenitor)\n",
    "\n",
    "#Enumeration - matter type\n",
    "matterType = ['matter', 'antimatter']\n",
    "enumMatterType = enumerate(matterType)\n",
    "\n",
    "#Enumeraiton  - flavor\n",
    "flavor = ['electron', 'mu', 'tau']\n",
    "enumFlavor = enumerate(flavor)"
   ]
  },
  {
   "cell_type": "code",
   "execution_count": 6,
   "metadata": {},
   "outputs": [
    {
     "name": "stdout",
     "output_type": "stream",
     "text": [
      "What is the luminosity?: 89\n",
      "What is the mean energy?: 69\n"
     ]
    }
   ],
   "source": [
    "#Global variables - luminosities & mean energies (will depend on progenitor)\n",
    "luminosity = float(raw_input(\"What is the luminosity?: \"))\n",
    "meanEnergy = float(raw_input(\"What is the mean energy?: \"))"
   ]
  },
  {
   "cell_type": "code",
   "execution_count": 1,
   "metadata": {},
   "outputs": [
    {
     "name": "stdout",
     "output_type": "stream",
     "text": [
      "What is the distance between the supernova and Earth? (kpc): 51.4\n",
      "What is the progenitor type? Please enter either 'ONeMg' or 'Fe': ONeMg\n",
      "What is the compactness? Please enter either 2.5 or 5: 2.5\n",
      "What is the accretion timescale? 600\n",
      "What is the stiffness parameter? 7\n",
      "What is the mass ordering? Please enter either NMO or IMO: IMO\n"
     ]
    }
   ],
   "source": [
    "#Prompts user input\n",
    "#distance between supernova and detector on Earth\n",
    "dist = float(raw_input(\"What is the distance between the supernova and Earth? (kpc): \"))\n",
    "\n",
    "#progenitor type, prompt user to enter either 'ONeMg' or 'Fe', still need to make case insensitive\n",
    "p = raw_input(\"What is the progenitor type? Please enter either 'ONeMg' or 'Fe': \") \n",
    "\n",
    "#compactness, prompt user to enter either 2.5 or 5\n",
    "comp = float(raw_input(\"What is the compactness? Please enter either 2.5 or 5: \"))\n",
    "\n",
    "#accretion timescale - units?\n",
    "timeAcc = float(raw_input(\"What is the accretion timescale? \")) \n",
    "\n",
    "#stiffness parameter prompt\n",
    "stiff = float(raw_input(\"What is the stiffness parameter? \")) \n",
    "\n",
    "#prompt user to enter either NMO or IMO, still need to make case insensitive\n",
    "mass_ordering = raw_input(\"What is the mass ordering? Please enter either NMO or IMO: \") "
   ]
  },
  {
   "cell_type": "code",
   "execution_count": null,
   "metadata": {
    "collapsed": true
   },
   "outputs": [],
   "source": [
    "#Four functions\n",
    "\n",
    "#spectral pinching parameters\n",
    "alpha_e = 3 #electron neutrino\n",
    "alpha_anti_e = 3 #electron antineutrino\n",
    "alpha_x = 2 #mu neutrino, mu antineutrino, tau neutrino, tau antineutrino\n",
    "\n",
    "#overall number of neutrinos emitted\n",
    "ratio = luminosity / meanEnergy\n",
    "\n"
   ]
  },
  {
   "cell_type": "code",
   "execution_count": null,
   "metadata": {
    "collapsed": true
   },
   "outputs": [],
   "source": [
    "#Output file (csv)"
   ]
  }
 ],
 "metadata": {
  "kernelspec": {
   "display_name": "Python 2",
   "language": "python",
   "name": "python2"
  },
  "language_info": {
   "codemirror_mode": {
    "name": "ipython",
    "version": 2
   },
   "file_extension": ".py",
   "mimetype": "text/x-python",
   "name": "python",
   "nbconvert_exporter": "python",
   "pygments_lexer": "ipython2",
   "version": "2.7.13"
  }
 },
 "nbformat": 4,
 "nbformat_minor": 2
}
