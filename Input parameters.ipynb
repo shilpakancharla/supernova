{
 "cells": [
  {
   "cell_type": "code",
   "execution_count": 1,
   "metadata": {
    "collapsed": true
   },
   "outputs": [],
   "source": [
    "import math"
   ]
  },
  {
   "cell_type": "code",
   "execution_count": 21,
   "metadata": {},
   "outputs": [
    {
     "name": "stdout",
     "output_type": "stream",
     "text": [
      "<enumerate object at 0x10596c370>\n",
      "<enumerate object at 0x1058db410>\n",
      "<enumerate object at 0x1058db370>\n",
      "<enumerate object at 0x1058db6e0>\n"
     ]
    }
   ],
   "source": [
    "#Enumeration - mass ordering\n",
    "massOrdering = ['NMO', 'IMO']\n",
    "enumMassOrdering = enumerate(massOrdering)\n",
    "print(enumMassOrdering)\n",
    "\n",
    "#Enumeration - progenitor\n",
    "progenitor = ['ONeMg', 'Fe']\n",
    "enumProgenitor = enumerate(progenitor)\n",
    "print(enumProgenitor)\n",
    "\n",
    "#Enumeration - matter type\n",
    "matterType = ['matter', 'antimatter']\n",
    "enumMatterType = enumerate(matterType)\n",
    "print(enumMatterType)\n",
    "\n",
    "#Enumeraiton  - flavor\n",
    "flavor = ['electron', 'mu', 'tau']\n",
    "enumFlavor = enumerate(flavor)\n",
    "print(enumFlavor)"
   ]
  },
  {
   "cell_type": "code",
   "execution_count": 25,
   "metadata": {},
   "outputs": [
    {
     "name": "stdout",
     "output_type": "stream",
     "text": [
      "What is the luminosity of electron neutrinos?: 65756\n",
      "What is the luminosity of electron antineutrinos?: 5464\n",
      "What is the luminosity of mu neutrinos?: 4523\n",
      "What is the luminosity of mu antineutrinos?: 324\n",
      "What is the luminosity of tau neutrinos?: 3424235\n",
      "What is the luminosity of tau antineutrinos?: 32423\n",
      "What is the mean energy of electron neutrinos?: 423432\n",
      "What is the mean energy of electron antineutrinos?: 3423423\n",
      "What is the mean energy of mu neutrinos?: 23413545\n",
      "What is the mean energy of mu antineutrinos?: 1453\n",
      "What is the mean energy of tau neutrinos?: 4145234\n",
      "What is the mean energy of tau antineutrinos?: 4534\n",
      "[[65756.0, 423432.0], [5464.0, 3423423.0], [4523.0, 23413545.0], [324.0, 1453.0], [3424235.0, 4145234.0], [32423.0, 4534.0]]\n"
     ]
    }
   ],
   "source": [
    "#Prompts user input\n",
    "#Global variables - luminosities & mean energies (will depend on progenitor)\n",
    "luminosity_e = float(raw_input(\"What is the luminosity of electron neutrinos?: \"))\n",
    "luminosity_anti_e = float(raw_input(\"What is the luminosity of electron antineutrinos?: \"))\n",
    "luminosity_mu = float(raw_input(\"What is the luminosity of mu neutrinos?: \"))\n",
    "luminosity_anti_mu = float(raw_input(\"What is the luminosity of mu antineutrinos?: \"))\n",
    "luminosity_tau = float(raw_input(\"What is the luminosity of tau neutrinos?: \"))\n",
    "luminosity_anti_tau = float(raw_input(\"What is the luminosity of tau antineutrinos?: \"))\n",
    "meanEnergy_e = float(raw_input(\"What is the mean energy of electron neutrinos?: \"))\n",
    "meanEnergy_anti_e = float(raw_input(\"What is the mean energy of electron antineutrinos?: \"))\n",
    "meanEnergy_mu = float(raw_input(\"What is the mean energy of mu neutrinos?: \"))\n",
    "meanEnergy_anti_mu = float(raw_input(\"What is the mean energy of mu antineutrinos?: \"))\n",
    "meanEnergy_tau = float(raw_input(\"What is the mean energy of tau neutrinos?: \"))\n",
    "meanEnergy_anti_tau = float(raw_input(\"What is the mean energy of tau antineutrinos?: \"))\n",
    "\n",
    "#Create 2D arrays for luminosity & mean energies\n",
    "lumEnergy = [[luminosity_e, meanEnergy_e], [luminosity_anti_e, meanEnergy_anti_e],\n",
    "            [luminosity_mu, meanEnergy_mu], [luminosity_anti_mu, meanEnergy_anti_mu],\n",
    "            [luminosity_tau, meanEnergy_tau], [luminosity_anti_tau, meanEnergy_anti_tau]]\n",
    "print(lumEnergy)"
   ]
  },
  {
   "cell_type": "code",
   "execution_count": null,
   "metadata": {
    "collapsed": true
   },
   "outputs": [],
   "source": [
    "#Prompts user input\n",
    "\n",
    "#distance between supernova and detector on Earth\n",
    "dist = float(raw_input(\"What is the distance between the supernova and Earth? (kpc): \"))\n",
    "\n",
    "#progenitor type, prompt user to enter either 'ONeMg' or 'Fe', still need to make case insensitive \n",
    "p = raw_input(\"What is the progenitor type? Please enter either 'ONeMg' or 'Fe': \")\n",
    "\n",
    "#compactness, prompt user to enter either 2.5 or 5 \n",
    "comp = float(raw_input(\"What is the compactness? Please enter either 2.5 or 5: \"))\n",
    "\n",
    "#accretion timescale - units? \n",
    "timeAcc = float(raw_input(\"What is the accretion timescale? \"))\n",
    "\n",
    "#stiffness parameter prompt \n",
    "stiff = float(raw_input(\"What is the stiffness parameter? \"))\n",
    "\n",
    "#prompt user to enter either NMO or IMO, still need to make case insensitive \n",
    "mass_ordering = raw_input(\"What is the mass ordering? Please enter either NMO or IMO: \")"
   ]
  },
  {
   "cell_type": "code",
   "execution_count": 5,
   "metadata": {
    "collapsed": true
   },
   "outputs": [],
   "source": [
    "#Factorial definition\n",
    "def factorial(n):\n",
    "    if n == 0:\n",
    "        return 1\n",
    "    else:\n",
    "        return n * factorial(n - 1)"
   ]
  },
  {
   "cell_type": "code",
   "execution_count": 6,
   "metadata": {},
   "outputs": [
    {
     "name": "stdout",
     "output_type": "stream",
     "text": [
      "[[3, 3], [2, 2], [2, 2]]\n"
     ]
    }
   ],
   "source": [
    "#2D array of spectral pinching parameters\n",
    "alpha_e = 3 #electron neutrino\n",
    "alpha_anti_e = 3 #electron antineutrino\n",
    "alpha_mu = 2 #mu neutrino, tau neutrino, \n",
    "alpha_anti_mu = 2 #mu antineutrino, tau antineutrino\n",
    "alpha_tau = 2 #mu neutrino, tau neutrino, \n",
    "alpha_anti_tau = 2 #mu antineutrino, tau antineutrino\n",
    "alpha = [[alpha_e, alpha_anti_e], [alpha_mu, alpha_anti_mu], [alpha_tau, alpha_anti_tau]]\n",
    "print(alpha)"
   ]
  },
  {
   "cell_type": "code",
   "execution_count": 7,
   "metadata": {
    "collapsed": true
   },
   "outputs": [],
   "source": [
    "#Float range\n",
    "def frange(start, stop, step = 1):\n",
    "    while start < stop:\n",
    "        yield start\n",
    "        start +=step"
   ]
  },
  {
   "cell_type": "code",
   "execution_count": 20,
   "metadata": {},
   "outputs": [
    {
     "name": "stdout",
     "output_type": "stream",
     "text": [
      "1\t3.08459349447e-13\t0.0161155562443\t1.32099088236e-09\t1.32530475817e-09\t1.18047114502e-09\t1.38335678798e-05\n",
      "2\t2.46481786415e-12\t0.109132190778\t5.27750786313e-09\t5.29473700493e-09\t4.71627553154e-09\t5.52666119335e-05\n",
      "3\t8.30912931106e-12\t0.311777117182\t1.1859885189e-08\t1.18985915318e-08\t1.05990145783e-08\t0.000124197828925\n",
      "4\t1.96729113619e-11\t0.625573053471\t2.10584807298e-08\t2.11271868691e-08\t1.8820309661e-08\t0.000220526163406\n",
      "5\t3.83791703141e-11\t1.03425030732\t3.28636759301e-08\t3.29708652376e-08\t2.93718020729e-08\t0.000344150807207\n",
      "6\t6.62424257541e-11\t1.51281904454\t4.72658757615e-08\t4.74199925e-08\t4.22451529853e-08\t0.000494971198938\n",
      "7\t1.05068735164e-10\t2.03350356608\t6.42555086746e-08\t6.44649581133e-08\t5.74320434083e-08\t0.00067288702348\n",
      "8\t1.56655718471e-10\t2.56943931886\t8.3823026551e-08\t8.40961750799e-08\t7.49241741513e-08\t0.000877798211489\n",
      "9\t2.22792582541e-10\t3.09680257425\t1.05958904656e-07\t1.063040799e-07\t9.47132657838e-08\t0.00110960493889\n",
      "10\t3.0526014561e-10\t3.59586664567\t1.3065364159e-07\t1.31079132524e-07\t1.16791058596e-07\t0.00136820762638\n",
      "11\t4.0583086167e-10\t4.05134491834\t1.57897759241e-07\t1.58411816304e-07\t1.41149312562e-07\t0.00165350693891\n",
      "12\t5.26268844786e-10\t4.45228019759\t1.87681802741e-07\t1.88292637947e-07\t1.67779807295e-07\t0.00196540378524\n",
      "13\t6.68329893363e-10\t4.79166440134\t2.1999634041e-07\t2.20712127464e-07\t1.96674342015e-07\t0.00230379931737\n",
      "14\t8.33761514357e-10\t5.06591653057\t2.54831963718e-07\t2.55660838129e-07\t2.27824735507e-07\t0.00266859493008\n",
      "15\t1.02430294743e-09\t5.27430555756\t2.92179287232e-07\t2.93129346424e-07\t2.6122282608e-07\t0.00305969226045\n",
      "16\t1.24168518904e-09\t5.41837480811\t3.32028948571e-07\t3.33108251996e-07\t2.96860471534e-07\t0.00347699318735\n",
      "17\t1.4876310165e-09\t5.50140282258\t3.74371608359e-07\t3.75588177611e-07\t3.34729549114e-07\t0.0039203998309\n",
      "18\t1.76385501193e-09\t5.52792043472\t4.19197950175e-07\t4.205597691e-07\t3.74821955478e-07\t0.00438981455208\n",
      "19\t2.07206358622e-09\t5.50329327527\t4.66498680512e-07\t4.6801369532e-07\t4.17129606654e-07\t0.00488513995213\n"
     ]
    }
   ],
   "source": [
    "#Functions\n",
    "\n",
    "#Overall number of neutrinos emitted\n",
    "ratio_e = luminosity_e / meanEnergy_e\n",
    "ratio_anti_e = luminosity_anti_e / meanEnergy_anti_e\n",
    "ratio_mu = luminosity_mu / meanEnergy_mu\n",
    "ratio_anti_mu = luminosity_anti_mu / meanEnergy_anti_mu\n",
    "ratio_tau = luminosity_tau / meanEnergy_tau\n",
    "ratio_anti_tau = luminosity_anti_tau / meanEnergy_anti_tau\n",
    "\n",
    "#First numerators\n",
    "num_e = (alpha[0][0] + 1) ** (alpha[0][0] + 1)\n",
    "num_anti_e = (alpha[0][1] + 1) ** (alpha[0][1] + 1)\n",
    "num_mu = (alpha[1][0] + 1) ** (alpha[1][0] + 1)\n",
    "num_anti_mu = (alpha[1][1] + 1) ** (alpha[1][1] + 1)\n",
    "num_tau = (alpha[2][0] + 1) ** (alpha[2][0] + 1)\n",
    "num_anti_tau = (alpha[2][1] + 1) ** (alpha[2][1] + 1)\n",
    "\n",
    "#First denominators, with gamma functions - option to use math.factorial from package?\n",
    "den_e = meanEnergy_e * factorial(alpha[0][0])\n",
    "den_anti_e = meanEnergy_anti_e * factorial(alpha[0][1])\n",
    "den_mu = meanEnergy_mu * factorial(alpha[1][0])\n",
    "den_anti_mu = meanEnergy_anti_mu * factorial(alpha[1][1])\n",
    "den_tau = meanEnergy_tau * factorial(alpha[2][0])\n",
    "den_anti_tau = meanEnergy_anti_tau * factorial(alpha[2][1])\n",
    "\n",
    "#First part of equation\n",
    "frac_e = (num_e) / (den_e)\n",
    "frac_anti_e = (num_anti_e) / (den_anti_e)\n",
    "frac_mu = (num_mu) / (den_mu)\n",
    "frac_anti_mu = (num_anti_mu) / (den_anti_mu)\n",
    "frac_tau = (num_tau) / (den_tau)\n",
    "frac_anti_tau = (num_anti_tau) / (den_anti_tau)\n",
    "\n",
    "#Creating a textfile called 'data.txt,' will create a new one to write into if it doesn't exist\n",
    "f = open(\"data.txt\", \"w+\")\n",
    "\n",
    "#File-output for energies of neutrinos (tab delimited) - will output from for loop\n",
    "#Can change start, stop, and step later - first testing to see if for loop works and writes a text file\n",
    "for E in frange(1, 20, 1): \n",
    "    flux_e = (ratio_e) * (frac_e) * ((E / meanEnergy_e) ** alpha[0][0]) * math.exp(-((alpha[0][0] + 1) * E) / meanEnergy_e)\n",
    "    flux_anti_e = (ratio_anti_e) * (frac_anti_e) * ((E / meanEnergy_anti_e) ** alpha[0][1]) * math.exp(-((alpha[0][1] + 1) * E) / meanEnergy_anti_e)\n",
    "    flux_mu = (ratio_mu) * (frac_mu) * ((E / meanEnergy_mu) ** alpha[1][0]) * math.exp(-((alpha[1][0] + 1) * E) / meanEnergy_mu)\n",
    "    flux_anti_mu = (ratio_anti_mu) * (frac_anti_mu) * ((E / meanEnergy_anti_mu) ** alpha[1][1]) * math.exp(-((alpha[1][1] + 1) * E) / meanEnergy_anti_mu)\n",
    "    flux_tau = (ratio_tau) * (frac_tau) * ((E / meanEnergy_tau) ** alpha[2][0]) * math.exp(-((alpha[2][0] + 1) * E) / meanEnergy_tau)\n",
    "    flux_anti_tau = (ratio_anti_tau) * (frac_anti_tau) * ((E / meanEnergy_anti_mu) ** alpha[2][1]) * math.exp(-((alpha[2][1] + 1) * E) / meanEnergy_anti_mu)\n",
    "    print(str(E)+ '\\t' + str(flux_e) + '\\t' + str(flux_anti_e) + '\\t' + str(flux_mu) + '\\t' + str(flux_anti_mu) + '\\t' + str(flux_tau) + '\\t' + str(flux_anti_tau))\n",
    "    stringData = str(E)+ '\\t' + str(flux_e) + '\\t' + str(flux_anti_e) + '\\t' + str(flux_mu) + '\\t' + str(flux_anti_mu) + '\\t' + str(flux_tau) + '\\t' + str(flux_anti_tau)\n",
    "    file = open(\"data.txt\", \"a\")\n",
    "    file.write(stringData + '\\n')\n",
    "    file.close()\n"
   ]
  },
  {
   "cell_type": "code",
   "execution_count": null,
   "metadata": {
    "collapsed": true
   },
   "outputs": [],
   "source": []
  }
 ],
 "metadata": {
  "kernelspec": {
   "display_name": "Python 2",
   "language": "python",
   "name": "python2"
  },
  "language_info": {
   "codemirror_mode": {
    "name": "ipython",
    "version": 2
   },
   "file_extension": ".py",
   "mimetype": "text/x-python",
   "name": "python",
   "nbconvert_exporter": "python",
   "pygments_lexer": "ipython2",
   "version": "2.7.13"
  }
 },
 "nbformat": 4,
 "nbformat_minor": 2
}
