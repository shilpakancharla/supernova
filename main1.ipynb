{
 "cells": [
  {
   "cell_type": "code",
   "execution_count": 12,
   "metadata": {},
   "outputs": [
    {
     "ename": "ImportError",
     "evalue": "cannot import name factorial",
     "output_type": "error",
     "traceback": [
      "\u001b[0;31m---------------------------------------------------------------------------\u001b[0m",
      "\u001b[0;31mImportError\u001b[0m                               Traceback (most recent call last)",
      "\u001b[0;32m<ipython-input-12-2c2bd2e6a691>\u001b[0m in \u001b[0;36m<module>\u001b[0;34m()\u001b[0m\n\u001b[1;32m      1\u001b[0m \u001b[0;32mimport\u001b[0m \u001b[0mmath\u001b[0m\u001b[0;34m\u001b[0m\u001b[0m\n\u001b[1;32m      2\u001b[0m \u001b[0;32mimport\u001b[0m \u001b[0mmatplotlib\u001b[0m\u001b[0;34m.\u001b[0m\u001b[0mpyplot\u001b[0m \u001b[0;32mas\u001b[0m \u001b[0mplt\u001b[0m\u001b[0;34m\u001b[0m\u001b[0m\n\u001b[0;32m----> 3\u001b[0;31m \u001b[0;32mfrom\u001b[0m \u001b[0mscipy\u001b[0m\u001b[0;34m.\u001b[0m\u001b[0mstats\u001b[0m \u001b[0;32mimport\u001b[0m \u001b[0mgamma\u001b[0m\u001b[0;34m,\u001b[0m \u001b[0mfactorial\u001b[0m\u001b[0;34m\u001b[0m\u001b[0m\n\u001b[0m",
      "\u001b[0;31mImportError\u001b[0m: cannot import name factorial"
     ]
    }
   ],
   "source": [
    "import math\n",
    "import matplotlib.pyplot as plt\n",
    "from scipy.stats import gamma, factorial"
   ]
  },
  {
   "cell_type": "code",
   "execution_count": 9,
   "metadata": {},
   "outputs": [],
   "source": [
    "#Enumeration of matter type and flavor of neutrino\n",
    "matterType = ['nu', 'nubar']\n",
    "flavor = ['e', 'mu', 'tau']\n",
    "\n",
    "#Luminosity\n",
    "L_array = [[1.6e52, 1.6e52],\n",
    "          [1.6e52, 1.6e52],\n",
    "          [1.6e52, 1.6e52]]\n",
    "\n",
    "#Mean energy\n",
    "meanE_array = [[0.015, 0.015],\n",
    "              [0.015, 0.015],\n",
    "              [0.015, 0.015]]\n",
    "\n",
    "#Alpha (pinch parameters)\n",
    "alpha_array = [[3, 4.31],\n",
    "              [6, 6],\n",
    "              [6, 6]]\n",
    "\n",
    "#Creating a dictionary that is enumerated\n",
    "alpha = {}\n",
    "L = {}\n",
    "meanE = {}\n",
    "for x, pair_item in enumerate(flavor):\n",
    "    for y, item in enumerate(matterType):\n",
    "        alpha[(item, pair_item)] = alpha_array[x][y]\n",
    "        L[(item, pair_item)] = L_array[x][y]\n",
    "        meanE[(item, pair_item)] = meanE_array[x][y]"
   ]
  },
  {
   "cell_type": "code",
   "execution_count": 10,
   "metadata": {
    "collapsed": true
   },
   "outputs": [],
   "source": [
    "#Float range\n",
    "def frange(start, stop, step = 0.0002):\n",
    "    while start < stop:\n",
    "        yield start\n",
    "        start += step"
   ]
  },
  {
   "cell_type": "code",
   "execution_count": 11,
   "metadata": {},
   "outputs": [
    {
     "ename": "TypeError",
     "evalue": "unsupported operand type(s) for *: 'float' and 'rv_frozen'",
     "output_type": "error",
     "traceback": [
      "\u001b[0;31m---------------------------------------------------------------------------\u001b[0m",
      "\u001b[0;31mTypeError\u001b[0m                                 Traceback (most recent call last)",
      "\u001b[0;32m<ipython-input-11-63bc3bd451c6>\u001b[0m in \u001b[0;36m<module>\u001b[0;34m()\u001b[0m\n\u001b[1;32m     16\u001b[0m \u001b[0;34m\u001b[0m\u001b[0m\n\u001b[1;32m     17\u001b[0m \u001b[0;31m#Denominator\u001b[0m\u001b[0;34m\u001b[0m\u001b[0;34m\u001b[0m\u001b[0m\n\u001b[0;32m---> 18\u001b[0;31m \u001b[0mden_e\u001b[0m \u001b[0;34m=\u001b[0m \u001b[0;34m(\u001b[0m\u001b[0mmeanE\u001b[0m\u001b[0;34m[\u001b[0m\u001b[0;34m(\u001b[0m\u001b[0;34m'nu'\u001b[0m\u001b[0;34m,\u001b[0m \u001b[0;34m'e'\u001b[0m\u001b[0;34m)\u001b[0m\u001b[0;34m]\u001b[0m\u001b[0;34m)\u001b[0m \u001b[0;34m*\u001b[0m \u001b[0mgamma\u001b[0m\u001b[0;34m(\u001b[0m\u001b[0malpha\u001b[0m\u001b[0;34m[\u001b[0m\u001b[0;34m(\u001b[0m\u001b[0;34m'nu'\u001b[0m\u001b[0;34m,\u001b[0m \u001b[0;34m'e'\u001b[0m\u001b[0;34m)\u001b[0m\u001b[0;34m]\u001b[0m\u001b[0;34m)\u001b[0m\u001b[0;34m\u001b[0m\u001b[0m\n\u001b[0m\u001b[1;32m     19\u001b[0m \u001b[0mden_anti_e\u001b[0m \u001b[0;34m=\u001b[0m \u001b[0;34m(\u001b[0m\u001b[0mmeanE\u001b[0m\u001b[0;34m[\u001b[0m\u001b[0;34m(\u001b[0m\u001b[0;34m'nubar'\u001b[0m\u001b[0;34m,\u001b[0m \u001b[0;34m'e'\u001b[0m\u001b[0;34m)\u001b[0m\u001b[0;34m]\u001b[0m\u001b[0;34m)\u001b[0m \u001b[0;34m*\u001b[0m \u001b[0mgamma\u001b[0m\u001b[0;34m(\u001b[0m\u001b[0malpha\u001b[0m\u001b[0;34m[\u001b[0m\u001b[0;34m(\u001b[0m\u001b[0;34m'nubar'\u001b[0m\u001b[0;34m,\u001b[0m \u001b[0;34m'e'\u001b[0m\u001b[0;34m)\u001b[0m\u001b[0;34m]\u001b[0m\u001b[0;34m)\u001b[0m\u001b[0;34m\u001b[0m\u001b[0m\n\u001b[1;32m     20\u001b[0m \u001b[0mden_mu\u001b[0m \u001b[0;34m=\u001b[0m \u001b[0;34m(\u001b[0m\u001b[0mmeanE\u001b[0m\u001b[0;34m[\u001b[0m\u001b[0;34m(\u001b[0m\u001b[0;34m'nu'\u001b[0m\u001b[0;34m,\u001b[0m \u001b[0;34m'mu'\u001b[0m\u001b[0;34m)\u001b[0m\u001b[0;34m]\u001b[0m\u001b[0;34m)\u001b[0m \u001b[0;34m*\u001b[0m \u001b[0mgamma\u001b[0m\u001b[0;34m(\u001b[0m\u001b[0malpha\u001b[0m\u001b[0;34m[\u001b[0m\u001b[0;34m(\u001b[0m\u001b[0;34m'nu'\u001b[0m\u001b[0;34m,\u001b[0m \u001b[0;34m'mu'\u001b[0m\u001b[0;34m)\u001b[0m\u001b[0;34m]\u001b[0m \u001b[0;34m+\u001b[0m \u001b[0;36m1\u001b[0m\u001b[0;34m)\u001b[0m\u001b[0;34m\u001b[0m\u001b[0m\n",
      "\u001b[0;31mTypeError\u001b[0m: unsupported operand type(s) for *: 'float' and 'rv_frozen'"
     ]
    }
   ],
   "source": [
    "#Ratio of mean energy and luminosity\n",
    "ratio_e = (L[('nu', 'e')] / meanE[('nu', 'e')])\n",
    "ratio_anti_e = (L[('nubar', 'e')] / meanE[('nubar', 'e')])\n",
    "ratio_mu = (L[('nu', 'mu')] / meanE[('nu', 'mu')])\n",
    "ratio_anti_mu = (L[('nubar', 'mu')] / meanE[('nubar', 'mu')])\n",
    "ratio_tau = (L[('nu', 'tau')] / meanE[('nu', 'tau')])\n",
    "ratio_anti_tau = (L[('nubar', 'tau')] / meanE[('nubar', 'tau')])\n",
    "\n",
    "#Numerator\n",
    "num_e = (alpha[('nu', 'e')] + 1) ** (alpha[('nu', 'e')] + 1)\n",
    "num_anti_e = (alpha[('nubar', 'e')] + 1) ** (alpha[('nubar', 'e')] + 1)\n",
    "num_mu = (alpha[('nu', 'mu')] + 1) ** (alpha[('nu', 'mu')] + 1)\n",
    "num_anti_mu = (alpha[('nubar', 'mu')] + 1) ** (alpha[('nubar', 'mu')] + 1)\n",
    "num_tau = (alpha[('nu', 'tau')] + 1) ** (alpha[('nu', 'tau')] + 1)\n",
    "num_anti_tau = (alpha[('nubar', 'tau')] + 1) ** (alpha[('nubar', 'tau')] + 1)\n",
    "\n",
    "#Denominator\n",
    "den_e = (meanE[('nu', 'e')]) * gamma(alpha[('nu', 'e')])\n",
    "den_anti_e = (meanE[('nubar', 'e')]) * gamma(alpha[('nubar', 'e')])\n",
    "den_mu = (meanE[('nu', 'mu')]) * gamma(alpha[('nu', 'mu')] + 1)\n",
    "den_anti_mu = (meanE[('nubar', 'mu')]) * gamma(alpha[('nubar', 'mu')])\n",
    "den_tau = (meanE[('nu', 'tau')]) * gamma(alpha[('nu', 'tau')] + 1)\n",
    "den_anti_tau = (meanE[('nubar', 'tau')]) * gamma(alpha[('nubar', 'tau')])\n",
    "\n",
    "#Fraction\n",
    "frac_e = (num_e / den_e)\n",
    "frac_anti_e = (num_anti_e / den_anti_e)\n",
    "frac_mu = (num_mu / den_mu)\n",
    "frac_anti_mu = (num_anti_mu / den_anti_mu)\n",
    "frac_tau = (num_tau / den_tau)\n",
    "frac_anti_tau = (num_anti_tau / den_anti_tau)\n",
    "\n",
    "file = open(\"data/data_%d.txt\" % t, \"w+\")\n",
    "for E in range(0, 0.1002, 0.0002): \n",
    "    flux_e = (ratio_e) * (frac_e) * ((E / meanE[('nu', 'e')]) ** (alpha[('nu', 'e')])) * math.exp(-((alpha[('nu', 'e')] + 1) * E) / meanE[('nu', 'e')])\n",
    "    flux_anti_e = (ratio_anti_e) * (frac_anti_e) * ((E / meanE[('nubar', 'e')]) ** (alpha[('nubar', 'e')])) * math.exp(-((alpha[('nubar', 'e')] + 1) * E) / meanE[('nubar', 'e')])\n",
    "    flux_mu = (ratio_mu) * (frac_mu) * ((E / meanE[('nu', 'mu')]) ** (alpha[('nu', 'mu')])) * math.exp(-((alpha[('nu', 'mu')] + 1) * E) / meanE[('nu', 'mu')])\n",
    "    flux_anti_mu = (ratio_anti_mu) * (frac_anti_mu) * ((E / meanE[('nubar', 'mu')]) ** (alpha[('nubar', 'mu')])) * math.exp(-((alpha[('nubar', 'mu')] + 1) * E) / meanE[('nubar', 'mu')])\n",
    "    flux_tau = (ratio_tau) * (frac_tau) * ((E / meanE[('nu', 'tau')]) ** (alpha[('nu', 'tau')])) * math.exp(-((alpha[('nu', 'tau')] + 1) * E) / meanE[('nu', 'tau')])\n",
    "    flux_anti_tau = (ratio_anti_tau) * (frac_anti_tau) * ((E / meanE[('nubar', 'tau')]) ** (alpha[('nubar', 'tau')])) * math.exp(-((alpha[('nubar', 'tau')] + 1) * E) / meanE[('nubar', 'tau')])\n",
    "    print(str(E)+ '\\t' + str(flux_e) + '\\t' + str(flux_anti_e) + '\\t' + str(flux_mu) + '\\t' + str(flux_anti_mu) + '\\t' + str(flux_tau) + '\\t' + str(flux_anti_tau))\n",
    "    stringData = str(E)+ '\\t' + str(flux_e) + '\\t' + str(flux_anti_e) + '\\t' + str(flux_mu) + '\\t' + str(flux_anti_mu) + '\\t' + str(flux_tau) + '\\t' + str(flux_anti_tau)\n",
    "    file = open(\"data/data_%d.txt\" % t, \"a\") \n",
    "    file.write(stringData + '\\n')\n",
    "    file.close()"
   ]
  },
  {
   "cell_type": "code",
   "execution_count": null,
   "metadata": {
    "collapsed": true
   },
   "outputs": [],
   "source": []
  }
 ],
 "metadata": {
  "kernelspec": {
   "display_name": "Python 2",
   "language": "python",
   "name": "python2"
  },
  "language_info": {
   "codemirror_mode": {
    "name": "ipython",
    "version": 2
   },
   "file_extension": ".py",
   "mimetype": "text/x-python",
   "name": "python",
   "nbconvert_exporter": "python",
   "pygments_lexer": "ipython2",
   "version": "2.7.13"
  }
 },
 "nbformat": 4,
 "nbformat_minor": 2
}
