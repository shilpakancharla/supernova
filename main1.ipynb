{
 "cells": [
  {
   "cell_type": "code",
   "execution_count": 6,
   "metadata": {
    "collapsed": true
   },
   "outputs": [],
   "source": [
    "import math\n",
    "import matplotlib.pyplot as plt\n",
    "from scipy.special import gamma\n",
    "import numpy as np \n",
    "import sympy\n",
    "import sympy.physics\n",
    "from sympy.physics import units"
   ]
  },
  {
   "cell_type": "code",
   "execution_count": 19,
   "metadata": {},
   "outputs": [
    {
     "name": "stdout",
     "output_type": "stream",
     "text": [
      "1.602176487e-19*kg*m**2/s**2\n"
     ]
    }
   ],
   "source": [
    "#Define new energy units\n",
    "units.keV = 1e3*units.eV\n",
    "units.MeV = 1e6*units.eV\n",
    "units.GeV = 1e9*units.eV\n",
    "units.TeV = 1e12*units.eV\n",
    "units.erg = units.g*units.cm**2/units.s**2\n",
    "\n",
    "#Define new distance units\n",
    "units.pc = units.parsec = 3.08568025e18*units.cm\n",
    "units.kpc = units.kiloparsec = 1e3*units.parsec\n",
    "\n",
    "kg = 1000\n",
    "m = 100\n",
    "s = 1\n",
    "\n",
    "x = units.eV\n",
    "print(x)"
   ]
  },
  {
   "cell_type": "code",
   "execution_count": 7,
   "metadata": {
    "collapsed": true
   },
   "outputs": [],
   "source": [
    "#Enumeration of matter type and flavor of neutrino\n",
    "matterType = ['nu', 'nubar']\n",
    "flavor = ['e', 'mu', 'tau']\n",
    "\n",
    "#Luminosity\n",
    "L_array = [[1.6e52, 1.6e52],\n",
    "          [1.6e52, 1.6e52],\n",
    "          [1.6e52, 1.6e52]]\n",
    "\n",
    "#Mean energy\n",
    "meanE_array = [[0.015 * units.GeV, 0.015 * units.GeV],\n",
    "              [0.015 * units.GeV, 0.015 * units.GeV],\n",
    "              [0.015 * units.GeV, 0.015 * units.GeV]]\n",
    "\n",
    "#Alpha (pinch parameters)\n",
    "alpha_array = [[3, 4.31],\n",
    "              [6, 6],\n",
    "              [6, 6]]\n",
    "\n",
    "#Creating a dictionary that is enumerated\n",
    "alpha = {}\n",
    "L = {}\n",
    "meanE = {}\n",
    "for x, pair_item in enumerate(flavor):\n",
    "    for y, item in enumerate(matterType):\n",
    "        alpha[(item, pair_item)] = alpha_array[x][y]\n",
    "        L[(item, pair_item)] = L_array[x][y]\n",
    "        meanE[(item, pair_item)] = meanE_array[x][y]"
   ]
  },
  {
   "cell_type": "code",
   "execution_count": 11,
   "metadata": {},
   "outputs": [
    {
     "name": "stdout",
     "output_type": "stream",
     "text": [
      "[[2.4032647305e-12*kg*m**2/s**2, 2.4032647305e-12*kg*m**2/s**2], [2.4032647305e-12*kg*m**2/s**2, 2.4032647305e-12*kg*m**2/s**2], [2.4032647305e-12*kg*m**2/s**2, 2.4032647305e-12*kg*m**2/s**2]]\n"
     ]
    }
   ],
   "source": [
    "print(meanE_array)"
   ]
  },
  {
   "cell_type": "code",
   "execution_count": 8,
   "metadata": {
    "collapsed": true
   },
   "outputs": [],
   "source": [
    "#Float range\n",
    "def frange(start, stop, step = 0.0002):\n",
    "    while start < stop:\n",
    "        yield start\n",
    "        start += step"
   ]
  },
  {
   "cell_type": "code",
   "execution_count": 9,
   "metadata": {},
   "outputs": [
    {
     "name": "stdout",
     "output_type": "stream",
     "text": [
      "0\t0\t0\t0\t0\t0\t0\n"
     ]
    },
    {
     "ename": "TypeError",
     "evalue": "can't convert expression to float",
     "output_type": "error",
     "traceback": [
      "\u001b[0;31m---------------------------------------------------------------------------\u001b[0m",
      "\u001b[0;31mTypeError\u001b[0m                                 Traceback (most recent call last)",
      "\u001b[0;32m<ipython-input-9-a55528a163c8>\u001b[0m in \u001b[0;36m<module>\u001b[0;34m()\u001b[0m\n\u001b[1;32m     38\u001b[0m     \u001b[0mfile\u001b[0m \u001b[0;34m=\u001b[0m \u001b[0mopen\u001b[0m\u001b[0;34m(\u001b[0m\u001b[0;34m\"data/data_%d.txt\"\u001b[0m \u001b[0;34m%\u001b[0m \u001b[0mt\u001b[0m\u001b[0;34m,\u001b[0m \u001b[0;34m\"w+\"\u001b[0m\u001b[0;34m)\u001b[0m\u001b[0;34m\u001b[0m\u001b[0m\n\u001b[1;32m     39\u001b[0m     \u001b[0;32mfor\u001b[0m \u001b[0mE\u001b[0m \u001b[0;32min\u001b[0m \u001b[0mfrange\u001b[0m\u001b[0;34m(\u001b[0m\u001b[0;36m0\u001b[0m\u001b[0;34m,\u001b[0m \u001b[0;36m0.1002\u001b[0m\u001b[0;34m,\u001b[0m \u001b[0;36m0.0002\u001b[0m\u001b[0;34m)\u001b[0m\u001b[0;34m:\u001b[0m\u001b[0;34m\u001b[0m\u001b[0m\n\u001b[0;32m---> 40\u001b[0;31m         \u001b[0mflux_e\u001b[0m \u001b[0;34m=\u001b[0m \u001b[0;34m(\u001b[0m\u001b[0mratio_e\u001b[0m\u001b[0;34m)\u001b[0m \u001b[0;34m*\u001b[0m \u001b[0;34m(\u001b[0m\u001b[0mfrac_e\u001b[0m\u001b[0;34m)\u001b[0m \u001b[0;34m*\u001b[0m \u001b[0;34m(\u001b[0m\u001b[0;34m(\u001b[0m\u001b[0mE\u001b[0m \u001b[0;34m/\u001b[0m \u001b[0mmeanE\u001b[0m\u001b[0;34m[\u001b[0m\u001b[0;34m(\u001b[0m\u001b[0;34m'nu'\u001b[0m\u001b[0;34m,\u001b[0m \u001b[0;34m'e'\u001b[0m\u001b[0;34m)\u001b[0m\u001b[0;34m]\u001b[0m\u001b[0;34m)\u001b[0m \u001b[0;34m**\u001b[0m \u001b[0;34m(\u001b[0m\u001b[0malpha\u001b[0m\u001b[0;34m[\u001b[0m\u001b[0;34m(\u001b[0m\u001b[0;34m'nu'\u001b[0m\u001b[0;34m,\u001b[0m \u001b[0;34m'e'\u001b[0m\u001b[0;34m)\u001b[0m\u001b[0;34m]\u001b[0m\u001b[0;34m)\u001b[0m\u001b[0;34m)\u001b[0m \u001b[0;34m*\u001b[0m \u001b[0mmath\u001b[0m\u001b[0;34m.\u001b[0m\u001b[0mexp\u001b[0m\u001b[0;34m(\u001b[0m\u001b[0;34m-\u001b[0m\u001b[0;34m(\u001b[0m\u001b[0;34m(\u001b[0m\u001b[0malpha\u001b[0m\u001b[0;34m[\u001b[0m\u001b[0;34m(\u001b[0m\u001b[0;34m'nu'\u001b[0m\u001b[0;34m,\u001b[0m \u001b[0;34m'e'\u001b[0m\u001b[0;34m)\u001b[0m\u001b[0;34m]\u001b[0m \u001b[0;34m+\u001b[0m \u001b[0;36m1\u001b[0m\u001b[0;34m)\u001b[0m \u001b[0;34m*\u001b[0m \u001b[0mE\u001b[0m\u001b[0;34m)\u001b[0m \u001b[0;34m/\u001b[0m \u001b[0mmeanE\u001b[0m\u001b[0;34m[\u001b[0m\u001b[0;34m(\u001b[0m\u001b[0;34m'nu'\u001b[0m\u001b[0;34m,\u001b[0m \u001b[0;34m'e'\u001b[0m\u001b[0;34m)\u001b[0m\u001b[0;34m]\u001b[0m\u001b[0;34m)\u001b[0m\u001b[0;34m\u001b[0m\u001b[0m\n\u001b[0m\u001b[1;32m     41\u001b[0m         \u001b[0mflux_anti_e\u001b[0m \u001b[0;34m=\u001b[0m \u001b[0;34m(\u001b[0m\u001b[0mratio_anti_e\u001b[0m\u001b[0;34m)\u001b[0m \u001b[0;34m*\u001b[0m \u001b[0;34m(\u001b[0m\u001b[0mfrac_anti_e\u001b[0m\u001b[0;34m)\u001b[0m \u001b[0;34m*\u001b[0m \u001b[0;34m(\u001b[0m\u001b[0;34m(\u001b[0m\u001b[0mE\u001b[0m \u001b[0;34m/\u001b[0m \u001b[0mmeanE\u001b[0m\u001b[0;34m[\u001b[0m\u001b[0;34m(\u001b[0m\u001b[0;34m'nubar'\u001b[0m\u001b[0;34m,\u001b[0m \u001b[0;34m'e'\u001b[0m\u001b[0;34m)\u001b[0m\u001b[0;34m]\u001b[0m\u001b[0;34m)\u001b[0m \u001b[0;34m**\u001b[0m \u001b[0;34m(\u001b[0m\u001b[0malpha\u001b[0m\u001b[0;34m[\u001b[0m\u001b[0;34m(\u001b[0m\u001b[0;34m'nubar'\u001b[0m\u001b[0;34m,\u001b[0m \u001b[0;34m'e'\u001b[0m\u001b[0;34m)\u001b[0m\u001b[0;34m]\u001b[0m\u001b[0;34m)\u001b[0m\u001b[0;34m)\u001b[0m \u001b[0;34m*\u001b[0m \u001b[0mmath\u001b[0m\u001b[0;34m.\u001b[0m\u001b[0mexp\u001b[0m\u001b[0;34m(\u001b[0m\u001b[0;34m-\u001b[0m\u001b[0;34m(\u001b[0m\u001b[0;34m(\u001b[0m\u001b[0malpha\u001b[0m\u001b[0;34m[\u001b[0m\u001b[0;34m(\u001b[0m\u001b[0;34m'nubar'\u001b[0m\u001b[0;34m,\u001b[0m \u001b[0;34m'e'\u001b[0m\u001b[0;34m)\u001b[0m\u001b[0;34m]\u001b[0m \u001b[0;34m+\u001b[0m \u001b[0;36m1\u001b[0m\u001b[0;34m)\u001b[0m \u001b[0;34m*\u001b[0m \u001b[0mE\u001b[0m\u001b[0;34m)\u001b[0m \u001b[0;34m/\u001b[0m \u001b[0mmeanE\u001b[0m\u001b[0;34m[\u001b[0m\u001b[0;34m(\u001b[0m\u001b[0;34m'nubar'\u001b[0m\u001b[0;34m,\u001b[0m \u001b[0;34m'e'\u001b[0m\u001b[0;34m)\u001b[0m\u001b[0;34m]\u001b[0m\u001b[0;34m)\u001b[0m\u001b[0;34m\u001b[0m\u001b[0m\n\u001b[1;32m     42\u001b[0m         \u001b[0mflux_mu\u001b[0m \u001b[0;34m=\u001b[0m \u001b[0;34m(\u001b[0m\u001b[0mratio_mu\u001b[0m\u001b[0;34m)\u001b[0m \u001b[0;34m*\u001b[0m \u001b[0;34m(\u001b[0m\u001b[0mfrac_mu\u001b[0m\u001b[0;34m)\u001b[0m \u001b[0;34m*\u001b[0m \u001b[0;34m(\u001b[0m\u001b[0;34m(\u001b[0m\u001b[0mE\u001b[0m \u001b[0;34m/\u001b[0m \u001b[0mmeanE\u001b[0m\u001b[0;34m[\u001b[0m\u001b[0;34m(\u001b[0m\u001b[0;34m'nu'\u001b[0m\u001b[0;34m,\u001b[0m \u001b[0;34m'mu'\u001b[0m\u001b[0;34m)\u001b[0m\u001b[0;34m]\u001b[0m\u001b[0;34m)\u001b[0m \u001b[0;34m**\u001b[0m \u001b[0;34m(\u001b[0m\u001b[0malpha\u001b[0m\u001b[0;34m[\u001b[0m\u001b[0;34m(\u001b[0m\u001b[0;34m'nu'\u001b[0m\u001b[0;34m,\u001b[0m \u001b[0;34m'mu'\u001b[0m\u001b[0;34m)\u001b[0m\u001b[0;34m]\u001b[0m\u001b[0;34m)\u001b[0m\u001b[0;34m)\u001b[0m \u001b[0;34m*\u001b[0m \u001b[0mmath\u001b[0m\u001b[0;34m.\u001b[0m\u001b[0mexp\u001b[0m\u001b[0;34m(\u001b[0m\u001b[0;34m-\u001b[0m\u001b[0;34m(\u001b[0m\u001b[0;34m(\u001b[0m\u001b[0malpha\u001b[0m\u001b[0;34m[\u001b[0m\u001b[0;34m(\u001b[0m\u001b[0;34m'nu'\u001b[0m\u001b[0;34m,\u001b[0m \u001b[0;34m'mu'\u001b[0m\u001b[0;34m)\u001b[0m\u001b[0;34m]\u001b[0m \u001b[0;34m+\u001b[0m \u001b[0;36m1\u001b[0m\u001b[0;34m)\u001b[0m \u001b[0;34m*\u001b[0m \u001b[0mE\u001b[0m\u001b[0;34m)\u001b[0m \u001b[0;34m/\u001b[0m \u001b[0mmeanE\u001b[0m\u001b[0;34m[\u001b[0m\u001b[0;34m(\u001b[0m\u001b[0;34m'nu'\u001b[0m\u001b[0;34m,\u001b[0m \u001b[0;34m'mu'\u001b[0m\u001b[0;34m)\u001b[0m\u001b[0;34m]\u001b[0m\u001b[0;34m)\u001b[0m\u001b[0;34m\u001b[0m\u001b[0m\n",
      "\u001b[0;32m/Users/shilpakancharla/anaconda/lib/python2.7/site-packages/sympy/core/expr.pyc\u001b[0m in \u001b[0;36m__float__\u001b[0;34m(self)\u001b[0m\n\u001b[1;32m    224\u001b[0m         \u001b[0;32mif\u001b[0m \u001b[0mresult\u001b[0m\u001b[0;34m.\u001b[0m\u001b[0mis_number\u001b[0m \u001b[0;32mand\u001b[0m \u001b[0mresult\u001b[0m\u001b[0;34m.\u001b[0m\u001b[0mas_real_imag\u001b[0m\u001b[0;34m(\u001b[0m\u001b[0;34m)\u001b[0m\u001b[0;34m[\u001b[0m\u001b[0;36m1\u001b[0m\u001b[0;34m]\u001b[0m\u001b[0;34m:\u001b[0m\u001b[0;34m\u001b[0m\u001b[0m\n\u001b[1;32m    225\u001b[0m             \u001b[0;32mraise\u001b[0m \u001b[0mTypeError\u001b[0m\u001b[0;34m(\u001b[0m\u001b[0;34m\"can't convert complex to float\"\u001b[0m\u001b[0;34m)\u001b[0m\u001b[0;34m\u001b[0m\u001b[0m\n\u001b[0;32m--> 226\u001b[0;31m         \u001b[0;32mraise\u001b[0m \u001b[0mTypeError\u001b[0m\u001b[0;34m(\u001b[0m\u001b[0;34m\"can't convert expression to float\"\u001b[0m\u001b[0;34m)\u001b[0m\u001b[0;34m\u001b[0m\u001b[0m\n\u001b[0m\u001b[1;32m    227\u001b[0m \u001b[0;34m\u001b[0m\u001b[0m\n\u001b[1;32m    228\u001b[0m     \u001b[0;32mdef\u001b[0m \u001b[0m__complex__\u001b[0m\u001b[0;34m(\u001b[0m\u001b[0mself\u001b[0m\u001b[0;34m)\u001b[0m\u001b[0;34m:\u001b[0m\u001b[0;34m\u001b[0m\u001b[0m\n",
      "\u001b[0;31mTypeError\u001b[0m: can't convert expression to float"
     ]
    }
   ],
   "source": [
    "#Ratio of mean energy and luminosity\n",
    "ratio_e = (L[('nu', 'e')] / meanE[('nu', 'e')])\n",
    "ratio_anti_e = (L[('nubar', 'e')] / meanE[('nubar', 'e')])\n",
    "ratio_mu = (L[('nu', 'mu')] / meanE[('nu', 'mu')])\n",
    "ratio_anti_mu = (L[('nubar', 'mu')] / meanE[('nubar', 'mu')])\n",
    "ratio_tau = (L[('nu', 'tau')] / meanE[('nu', 'tau')])\n",
    "ratio_anti_tau = (L[('nubar', 'tau')] / meanE[('nubar', 'tau')])\n",
    "\n",
    "#Numerator\n",
    "num_e = (alpha[('nu', 'e')] + 1) ** (alpha[('nu', 'e')] + 1)\n",
    "num_anti_e = (alpha[('nubar', 'e')] + 1) ** (alpha[('nubar', 'e')] + 1)\n",
    "num_mu = (alpha[('nu', 'mu')] + 1) ** (alpha[('nu', 'mu')] + 1)\n",
    "num_anti_mu = (alpha[('nubar', 'mu')] + 1) ** (alpha[('nubar', 'mu')] + 1)\n",
    "num_tau = (alpha[('nu', 'tau')] + 1) ** (alpha[('nu', 'tau')] + 1)\n",
    "num_anti_tau = (alpha[('nubar', 'tau')] + 1) ** (alpha[('nubar', 'tau')] + 1)\n",
    "\n",
    "#Denominator\n",
    "den_e = (meanE[('nu', 'e')]) * gamma(alpha[('nu', 'e')])\n",
    "den_anti_e = (meanE[('nubar', 'e')]) * gamma(alpha[('nubar', 'e')])\n",
    "den_mu = (meanE[('nu', 'mu')]) * gamma(alpha[('nu', 'mu')] + 1)\n",
    "den_anti_mu = (meanE[('nubar', 'mu')]) * gamma(alpha[('nubar', 'mu')])\n",
    "den_tau = (meanE[('nu', 'tau')]) * gamma(alpha[('nu', 'tau')] + 1)\n",
    "den_anti_tau = (meanE[('nubar', 'tau')]) * gamma(alpha[('nubar', 'tau')])\n",
    "\n",
    "#Fraction\n",
    "frac_e = (num_e / den_e)\n",
    "frac_anti_e = (num_anti_e / den_anti_e)\n",
    "frac_mu = (num_mu / den_mu)\n",
    "frac_anti_mu = (num_anti_mu / den_anti_mu)\n",
    "frac_tau = (num_tau / den_tau)\n",
    "frac_anti_tau = (num_anti_tau / den_anti_tau)\n",
    "\n",
    "#File-output for energies of neutrinos (tab delimited) - will output from for loop\n",
    "#Will also output graphs of neutrino spectra\n",
    "#Can change start, stop, and step later - first testing to see if for loop works and writes a text file\n",
    "for t in range(0, 20, 1):\n",
    "    #Functions go here\n",
    "    file = open(\"data/data_%d.txt\" % t, \"w+\")\n",
    "    for E in frange(0, 0.1002, 0.0002): \n",
    "        flux_e = (ratio_e) * (frac_e) * ((E / meanE[('nu', 'e')]) ** (alpha[('nu', 'e')])) * math.exp(-((alpha[('nu', 'e')] + 1) * E) / meanE[('nu', 'e')])\n",
    "        flux_anti_e = (ratio_anti_e) * (frac_anti_e) * ((E / meanE[('nubar', 'e')]) ** (alpha[('nubar', 'e')])) * math.exp(-((alpha[('nubar', 'e')] + 1) * E) / meanE[('nubar', 'e')])\n",
    "        flux_mu = (ratio_mu) * (frac_mu) * ((E / meanE[('nu', 'mu')]) ** (alpha[('nu', 'mu')])) * math.exp(-((alpha[('nu', 'mu')] + 1) * E) / meanE[('nu', 'mu')])\n",
    "        flux_anti_mu = (ratio_anti_mu) * (frac_anti_mu) * ((E / meanE[('nubar', 'mu')]) ** (alpha[('nubar', 'mu')])) * math.exp(-((alpha[('nubar', 'mu')] + 1) * E) / meanE[('nubar', 'mu')])\n",
    "        flux_tau = (ratio_tau) * (frac_tau) * ((E / meanE[('nu', 'tau')]) ** (alpha[('nu', 'tau')])) * math.exp(-((alpha[('nu', 'tau')] + 1) * E) / meanE[('nu', 'tau')])\n",
    "        flux_anti_tau = (ratio_anti_tau) * (frac_anti_tau) * ((E / meanE[('nubar', 'tau')]) ** (alpha[('nubar', 'tau')])) * math.exp(-((alpha[('nubar', 'tau')] + 1) * E) / meanE[('nubar', 'tau')])\n",
    "        print(str(E)+ '\\t' + str(flux_e) + '\\t' + str(flux_anti_e) + '\\t' + str(flux_mu) + '\\t' + str(flux_anti_mu) + '\\t' + str(flux_tau) + '\\t' + str(flux_anti_tau))\n",
    "        stringData = str(E)+ '\\t' + str(flux_e) + '\\t' + str(flux_anti_e) + '\\t' + str(flux_mu) + '\\t' + str(flux_anti_mu) + '\\t' + str(flux_tau) + '\\t' + str(flux_anti_tau)\n",
    "        file = open(\"data/data_%d.txt\" % t, \"a\") \n",
    "        file.write(stringData + '\\n')\n",
    "        file.close()\n",
    "    file = open(\"data/data_%d.txt\" %t)\n",
    "    lines = file.readlines()\n",
    "    E = []\n",
    "    flux_e = []\n",
    "    flux_anti_e = []\n",
    "    flux_mu = []\n",
    "    flux_anti_mu = []\n",
    "    flux_tau = []\n",
    "    flux_anti_tau = []\n",
    "    for line in lines:\n",
    "        E.append(line.split()[0])\n",
    "    for line in lines:\n",
    "        flux_e.append(line.split()[1])\n",
    "    for line in lines:\n",
    "        flux_anti_e.append(line.split()[2])   \n",
    "    for line in lines:\n",
    "        flux_mu.append(line.split()[3])\n",
    "    for line in lines:\n",
    "        flux_anti_mu.append(line.split()[4])\n",
    "    for line in lines:\n",
    "        flux_tau.append(line.split()[5])\n",
    "    for line in lines:\n",
    "        flux_anti_tau.append(line.split()[6])\n",
    "    file.close()\n",
    "    plt.figure()\n",
    "    plt.plot(E, flux_e, 'pink', lw = 2, label=\"Electron neutrino\")\n",
    "    plt.plot(E, flux_anti_e, 'mediumpurple', lw = 2, label=\"Electron antineutrino\")\n",
    "    plt.plot(E, flux_mu, 'lightskyblue', lw = 2, label=\"Mu neutrino\")\n",
    "    plt.plot(E, flux_anti_mu, 'silver', lw = 2, label=\"Mu antineutrino\")\n",
    "    plt.plot(E, flux_tau, 'gold', lw = 2, label=\"Tau neutrino\")\n",
    "    plt.plot(E, flux_anti_tau, 'red', lw = 2, label=\"Tau antineutrino\")\n",
    "    plt.legend(bbox_to_anchor=(1.05, 1), loc=2, borderaxespad=0.)\n",
    "    plt.title('Neutrino Spectra_%d' %t)\n",
    "    plt.xlabel(\"Energy\")\n",
    "    plt.ylabel(\"Flux\")\n",
    "    plt.grid()\n",
    "    plt.savefig('spectra/Neutrino Spectra_%d.png' %t, bbox_inches='tight')"
   ]
  },
  {
   "cell_type": "code",
   "execution_count": null,
   "metadata": {
    "collapsed": true
   },
   "outputs": [],
   "source": []
  }
 ],
 "metadata": {
  "kernelspec": {
   "display_name": "Python 2",
   "language": "python",
   "name": "python2"
  },
  "language_info": {
   "codemirror_mode": {
    "name": "ipython",
    "version": 2
   },
   "file_extension": ".py",
   "mimetype": "text/x-python",
   "name": "python",
   "nbconvert_exporter": "python",
   "pygments_lexer": "ipython2",
   "version": "2.7.13"
  }
 },
 "nbformat": 4,
 "nbformat_minor": 2
}
