{
 "cells": [
  {
   "cell_type": "code",
   "execution_count": 1,
   "metadata": {
    "collapsed": true
   },
   "outputs": [],
   "source": [
    "#Important packages\n",
    "import math\n",
    "import numpy as np\n",
    "from scipy.integrate import quad\n",
    "import scipy.linalg as sla\n",
    "from __future__ import division"
   ]
  },
  {
   "cell_type": "code",
   "execution_count": 2,
   "metadata": {},
   "outputs": [
    {
     "ename": "NameError",
     "evalue": "name 'g' is not defined",
     "output_type": "error",
     "traceback": [
      "\u001b[0;31m---------------------------------------------------------------------------\u001b[0m",
      "\u001b[0;31mNameError\u001b[0m                                 Traceback (most recent call last)",
      "\u001b[0;32m<ipython-input-2-b0d5f3409c68>\u001b[0m in \u001b[0;36m<module>\u001b[0;34m()\u001b[0m\n\u001b[1;32m      2\u001b[0m \u001b[0mM1\u001b[0m \u001b[0;34m=\u001b[0m \u001b[0;36m1.75\u001b[0m\u001b[0;34m\u001b[0m\u001b[0m\n\u001b[1;32m      3\u001b[0m \u001b[0mM2\u001b[0m \u001b[0;34m=\u001b[0m \u001b[0;36m2.5\u001b[0m\u001b[0;34m\u001b[0m\u001b[0m\n\u001b[0;32m----> 4\u001b[0;31m \u001b[0mM_sun\u001b[0m \u001b[0;34m=\u001b[0m \u001b[0;36m1.9891e33\u001b[0m \u001b[0;34m*\u001b[0m \u001b[0mg\u001b[0m\u001b[0;34m\u001b[0m\u001b[0m\n\u001b[0m\u001b[1;32m      5\u001b[0m \u001b[0;34m\u001b[0m\u001b[0m\n\u001b[1;32m      6\u001b[0m \u001b[0;31m#compactness, prompt user to enter either 1.75 or 2.5\u001b[0m\u001b[0;34m\u001b[0m\u001b[0;34m\u001b[0m\u001b[0m\n",
      "\u001b[0;31mNameError\u001b[0m: name 'g' is not defined"
     ]
    }
   ],
   "source": [
    "#Necessary constants\n",
    "M1 = 1.75\n",
    "M2 = 2.5\n",
    "M_sun = 1.9891e33 * g\n",
    "\n",
    "#compactness, prompt user to enter either 1.75 or 2.5 \n",
    "comp175 = float(raw_input(\"What is the compactness (psi_1.75)?\"))\n",
    "comp25 = float(raw_input(\"What is the compactness (psi_2.5)?\"))  "
   ]
  },
  {
   "cell_type": "code",
   "execution_count": null,
   "metadata": {
    "collapsed": true
   },
   "outputs": [],
   "source": [
    "#Density profile based on radius r\n",
    "def densityProfile(r):\n",
    "    rho_0 = 1e14 * (g / cm**3)\n",
    "    r_star = 1e7 * cm\n",
    "    return rho_0 / (1 + (r/r_star)**3)\n",
    "\n",
    "#Enclosed mass \n",
    "def enclosedMass(r_upper, rs, n):\n",
    "    MR = ((4*math.pi)*(densityProfile(r))*(r**2)*((r / rs)**(3*n))) / M_sun\n",
    "    return integrate.quad(lambda r: MR, 0, r_upper)"
   ]
  },
  {
   "cell_type": "code",
   "execution_count": 5,
   "metadata": {},
   "outputs": [
    {
     "ename": "NameError",
     "evalue": "global name 'enclosedMass' is not defined",
     "output_type": "error",
     "traceback": [
      "\u001b[0;31m---------------------------------------------------------------------------\u001b[0m",
      "\u001b[0;31mNameError\u001b[0m                                 Traceback (most recent call last)",
      "\u001b[0;32m<ipython-input-5-ca57971da833>\u001b[0m in \u001b[0;36m<module>\u001b[0;34m()\u001b[0m\n\u001b[1;32m     36\u001b[0m              [((-3*n)/rs) * enclosedMass(((1000 * km) * M2) / comp25, rs, n ), integrate.quad(lambda r: dmdn, 0, (1000 * km) * M2) / comp25]])\n\u001b[1;32m     37\u001b[0m \u001b[0;34m\u001b[0m\u001b[0m\n\u001b[0;32m---> 38\u001b[0;31m \u001b[0mn\u001b[0m\u001b[0;34m,\u001b[0m \u001b[0mx\u001b[0m\u001b[0;34m,\u001b[0m \u001b[0my\u001b[0m \u001b[0;34m=\u001b[0m \u001b[0mbroydenMethod\u001b[0m\u001b[0;34m(\u001b[0m\u001b[0mx0\u001b[0m\u001b[0;34m,\u001b[0m \u001b[0my0\u001b[0m\u001b[0;34m,\u001b[0m \u001b[0mfs\u001b[0m\u001b[0;34m,\u001b[0m \u001b[0mJs\u001b[0m\u001b[0;34m,\u001b[0m \u001b[0mtol\u001b[0m\u001b[0;34m,\u001b[0m \u001b[0mmaxIter\u001b[0m \u001b[0;34m=\u001b[0m \u001b[0;36m50\u001b[0m \u001b[0;34m)\u001b[0m\u001b[0;34m\u001b[0m\u001b[0m\n\u001b[0m\u001b[1;32m     39\u001b[0m \u001b[0;32mprint\u001b[0m \u001b[0;34m\"iterations: \"\u001b[0m\u001b[0;34m,\u001b[0m \u001b[0mn\u001b[0m\u001b[0;34m\u001b[0m\u001b[0m\n\u001b[1;32m     40\u001b[0m \u001b[0;32mprint\u001b[0m \u001b[0;34m\"x and y: \"\u001b[0m\u001b[0;34m,\u001b[0m \u001b[0mx\u001b[0m\u001b[0;34m,\u001b[0m \u001b[0my\u001b[0m\u001b[0;34m\u001b[0m\u001b[0m\n",
      "\u001b[0;32m<ipython-input-5-ca57971da833>\u001b[0m in \u001b[0;36mbroydenMethod\u001b[0;34m(x, y, f_equations, J_equations, tol, maxIter)\u001b[0m\n\u001b[1;32m      3\u001b[0m     \u001b[0msteps_taken\u001b[0m \u001b[0;34m=\u001b[0m \u001b[0;36m0\u001b[0m\u001b[0;34m\u001b[0m\u001b[0m\n\u001b[1;32m      4\u001b[0m \u001b[0;34m\u001b[0m\u001b[0m\n\u001b[0;32m----> 5\u001b[0;31m     \u001b[0mf\u001b[0m \u001b[0;34m=\u001b[0m \u001b[0mf_equations\u001b[0m\u001b[0;34m(\u001b[0m\u001b[0mx\u001b[0m\u001b[0;34m,\u001b[0m \u001b[0my\u001b[0m\u001b[0;34m)\u001b[0m\u001b[0;34m\u001b[0m\u001b[0m\n\u001b[0m\u001b[1;32m      6\u001b[0m     \u001b[0mJ\u001b[0m \u001b[0;34m=\u001b[0m \u001b[0mJ_equations\u001b[0m\u001b[0;34m(\u001b[0m\u001b[0mx\u001b[0m\u001b[0;34m,\u001b[0m \u001b[0my\u001b[0m\u001b[0;34m)\u001b[0m\u001b[0;34m\u001b[0m\u001b[0m\n\u001b[1;32m      7\u001b[0m \u001b[0;34m\u001b[0m\u001b[0m\n",
      "\u001b[0;32m<ipython-input-5-ca57971da833>\u001b[0m in \u001b[0;36mfs\u001b[0;34m(rs, n)\u001b[0m\n\u001b[1;32m     28\u001b[0m \u001b[0;34m\u001b[0m\u001b[0m\n\u001b[1;32m     29\u001b[0m \u001b[0;32mdef\u001b[0m \u001b[0mfs\u001b[0m\u001b[0;34m(\u001b[0m\u001b[0mrs\u001b[0m\u001b[0;34m,\u001b[0m \u001b[0mn\u001b[0m\u001b[0;34m)\u001b[0m\u001b[0;34m:\u001b[0m\u001b[0;34m\u001b[0m\u001b[0m\n\u001b[0;32m---> 30\u001b[0;31m     return np.array([enclosedMass(((1000 * km) * M1) / comp175, rs, n ) - M1, \n\u001b[0m\u001b[1;32m     31\u001b[0m                      enclosedMass(((1000 * km) * M2) / comp25, rs, n ) - M2])  #Define the f function here\n\u001b[1;32m     32\u001b[0m \u001b[0;34m\u001b[0m\u001b[0m\n",
      "\u001b[0;31mNameError\u001b[0m: global name 'enclosedMass' is not defined"
     ]
    }
   ],
   "source": [
    "#Broyden's Method for finding roots of two functions\n",
    "def broydenMethod(x, y, f_equations, J_equations, tol = 10e-1, maxIter = 50):\n",
    "    steps_taken = 0\n",
    "    \n",
    "    f = f_equations(x, y)\n",
    "    J = J_equations(x, y)\n",
    "    \n",
    "    while np.linalg.norm(f, 2) > tol and steps_taken < maxIter:\n",
    "        \n",
    "        s = sla.solve(J, -1 * f)\n",
    "        \n",
    "        x = x + s[0]\n",
    "        y = y + s[1]\n",
    "        newf = f_equations(x,y)\n",
    "        z = newf - f\n",
    " \n",
    "        J = J + (np.outer ((z - np.dot(J,s)),s)) / (np.dot(s,s))\n",
    "    \n",
    "        f = newf\n",
    "        steps_taken += 1\n",
    " \n",
    "        return steps_taken, x, y  \n",
    " \n",
    "tol = 10.0** -15\n",
    "maxIters = 50\n",
    "x0 = 1\n",
    "y0 = 2\n",
    " \n",
    "def fs(rs, n):\n",
    "    return np.array([enclosedMass(((1000 * km) * M1) / comp175, rs, n ) - M1, \n",
    "                     enclosedMass(((1000 * km) * M2) / comp25, rs, n ) - M2])  #Define the f function here\n",
    " \n",
    "def Js(rs, n):\n",
    "    dmdn = ((densityProfile(r))*(r**2)*((r / rs)**(3*n)) * math.log(r)) * 12 * math.pi\n",
    "    return np.array([[((-3*n)/rs) * enclosedMass(((1000 * km) * M1) / comp175, rs, n ), integrate.quad(lambda r: dmdn, 0, (1000 * km) * M1) / comp175],\n",
    "             [((-3*n)/rs) * enclosedMass(((1000 * km) * M2) / comp25, rs, n ), integrate.quad(lambda r: dmdn, 0, (1000 * km) * M2) / comp25]])\n",
    " \n",
    "n, x, y = broydenMethod(x0, y0, fs, Js, tol, maxIter = 50 )\n",
    "print \"iterations: \", n\n",
    "print \"x and y: \", x, y"
   ]
  },
  {
   "cell_type": "code",
   "execution_count": null,
   "metadata": {
    "collapsed": true
   },
   "outputs": [],
   "source": []
  }
 ],
 "metadata": {
  "kernelspec": {
   "display_name": "Python 2",
   "language": "python",
   "name": "python2"
  },
  "language_info": {
   "codemirror_mode": {
    "name": "ipython",
    "version": 2
   },
   "file_extension": ".py",
   "mimetype": "text/x-python",
   "name": "python",
   "nbconvert_exporter": "python",
   "pygments_lexer": "ipython2",
   "version": "2.7.13"
  }
 },
 "nbformat": 4,
 "nbformat_minor": 2
}
