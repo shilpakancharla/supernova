{
 "cells": [
  {
   "cell_type": "code",
   "execution_count": 6,
   "metadata": {
    "collapsed": true
   },
   "outputs": [],
   "source": [
    "from enum import IntEnum"
   ]
  },
  {
   "cell_type": "code",
   "execution_count": 7,
   "metadata": {},
   "outputs": [],
   "source": [
    "matterType = ['matter', 'antimatter']\n",
    "flavor = ['electron', 'mu', 'tau']\n",
    "\n",
    "L = [['L_e', 'L_anti_e'],\n",
    "      ['L_mu','L_anti_mu'],\n",
    "      ['L_tau', 'L_anti_tau']]\n",
    "\n",
    "meanE = [['meanE_e', 'meanE_anti_e'],\n",
    "      ['meanE_mu','meanE_anti_mu'],\n",
    "      ['meanE_tau', 'meanE_anti_tau']]\n",
    "\n",
    "alpha = [['alpha_e', 'alpha_anti_e'],\n",
    "      ['alpha_mu','alpha_anti_mu'],\n",
    "      ['alpha_tau', 'alpha_anti_tau']]\n",
    "\n",
    "ref_dict = {}\n",
    "for x, pair_item in enumerate(flavor):\n",
    "    for y, item in enumerate(matterType):\n",
    "        ref_dict[(item, pair_item)] = alpha[x][y]\n",
    "        ref_dict[(item, pair_item)] = L[x][y]\n",
    "        ref_dict[(item, pair_item)] = meanE[x][y]"
   ]
  },
  {
   "cell_type": "code",
   "execution_count": 8,
   "metadata": {
    "collapsed": true
   },
   "outputs": [],
   "source": [
    "class MatterType(IntEnum):\n",
    "    NU = 0 #matter\n",
    "    NU_BAR = 1 #antimatter\n",
    "    \n",
    "class Flavor(IntEnum):\n",
    "    E = 0\n",
    "    MU = 1\n",
    "    TAU = 2"
   ]
  },
  {
   "cell_type": "code",
   "execution_count": 9,
   "metadata": {
    "collapsed": true
   },
   "outputs": [],
   "source": [
    "alpha[MatterType.NU][Flavor.E] = 3 #electron neutrino\n",
    "alpha[MatterType.NU_BAR][Flavor.E] = 3 #electron antineutrino\n",
    "alpha[MatterType.NU][Flavor.MU] = 2 #mu neutrino, tau neutrino, \n",
    "alpha[MatterType.NU_BAR][Flavor.MU] #mu antineutrino, tau antineutrino\n",
    "alpha[MatterType.NU][Flavor.TAU] #mu neutrino, tau neutrino, \n",
    "alpha[MatterType.NU_BAR][Flavor.TAU] = 2 #mu antineutrino, tau antineutrino\n",
    "alpha = [[alpha_e, alpha_anti_e], [alpha_mu, alpha_anti_mu], [alpha_tau, alpha_anti_tau]]\n",
    "print(alpha)"
   ]
  },
  {
   "cell_type": "code",
   "execution_count": null,
   "metadata": {
    "collapsed": true
   },
   "outputs": [],
   "source": []
  }
 ],
 "metadata": {
  "kernelspec": {
   "display_name": "Python 2",
   "language": "python",
   "name": "python2"
  },
  "language_info": {
   "codemirror_mode": {
    "name": "ipython",
    "version": 2
   },
   "file_extension": ".py",
   "mimetype": "text/x-python",
   "name": "python",
   "nbconvert_exporter": "python",
   "pygments_lexer": "ipython2",
   "version": "2.7.13"
  }
 },
 "nbformat": 4,
 "nbformat_minor": 2
}
