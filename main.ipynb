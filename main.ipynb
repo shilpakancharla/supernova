{
 "cells": [
  {
   "cell_type": "code",
   "execution_count": 56,
   "metadata": {
    "collapsed": true
   },
   "outputs": [],
   "source": [
    "import math\n",
    "import matplotlib.pyplot as plt"
   ]
  },
  {
   "cell_type": "code",
   "execution_count": 57,
   "metadata": {},
   "outputs": [
    {
     "name": "stdout",
     "output_type": "stream",
     "text": [
      "What is the luminosity of electron neutrinos?: 23\n",
      "What is the luminosity of electron antineutrinos?: 12\n",
      "What is the luminosity of mu neutrinos?: 3343\n",
      "What is the luminosity of mu antineutrinos?: 21\n",
      "What is the luminosity of tau neutrinos?: 434\n",
      "What is the luminosity of tau antineutrinos?: 31\n",
      "What is the mean energy of electron neutrinos?: 21\n",
      "What is the mean energy of electron antineutrinos?: 21\n",
      "What is the mean energy of mu neutrinos?: 21\n",
      "What is the mean energy of mu antineutrinos?: 21\n",
      "What is the mean energy of tau neutrinos?: 67\n",
      "What is the mean energy of tau antineutrinos?: 80\n",
      "3\n",
      "3\n",
      "2\n",
      "2\n",
      "2\n",
      "2\n",
      "23.0\n",
      "12.0\n",
      "3343.0\n",
      "21.0\n",
      "434.0\n",
      "31.0\n",
      "21.0\n",
      "21.0\n",
      "21.0\n",
      "21.0\n",
      "67.0\n",
      "80.0\n"
     ]
    }
   ],
   "source": [
    "#Enumeration - mass ordering\n",
    "massOrdering = ['NMO', 'IMO']\n",
    "enumMassOrdering = enumerate(massOrdering)\n",
    "\n",
    "#Enumeration - progenitor\n",
    "progenitor = ['ONeMg', 'Fe']\n",
    "enumProgenitor = enumerate(progenitor)\n",
    "\n",
    "matterType = ['nu', 'nubar']\n",
    "flavor = ['e', 'mu', 'tau']\n",
    "\n",
    "L_e = float(raw_input(\"What is the luminosity of electron neutrinos?: \"))\n",
    "L_anti_e = float(raw_input(\"What is the luminosity of electron antineutrinos?: \"))\n",
    "L_mu = float(raw_input(\"What is the luminosity of mu neutrinos?: \"))\n",
    "L_anti_mu = float(raw_input(\"What is the luminosity of mu antineutrinos?: \"))\n",
    "L_tau = float(raw_input(\"What is the luminosity of tau neutrinos?: \"))\n",
    "L_anti_tau = float(raw_input(\"What is the luminosity of tau antineutrinos?: \"))\n",
    "meanE_e = float(raw_input(\"What is the mean energy of electron neutrinos?: \"))\n",
    "meanE_anti_e = float(raw_input(\"What is the mean energy of electron antineutrinos?: \"))\n",
    "meanE_mu = float(raw_input(\"What is the mean energy of mu neutrinos?: \"))\n",
    "meanE_anti_mu = float(raw_input(\"What is the mean energy of mu antineutrinos?: \"))\n",
    "meanE_tau = float(raw_input(\"What is the mean energy of tau neutrinos?: \"))\n",
    "meanE_anti_tau = float(raw_input(\"What is the mean energy of tau antineutrinos?: \"))\n",
    "\n",
    "L = [[L_e, L_anti_e],\n",
    "      [L_mu, L_anti_mu],\n",
    "      [L_tau, L_anti_tau]]\n",
    "\n",
    "meanE = [[meanE_e, meanE_anti_e],\n",
    "      [meanE_mu, meanE_anti_mu],\n",
    "      [meanE_tau, meanE_anti_tau]]\n",
    "\n",
    "alpha = [[3, 3],\n",
    "      [2, 2],\n",
    "      [2, 2]]\n",
    "\n",
    "alpha_dict = {}\n",
    "L_dict = {}\n",
    "meanE_dict = {}\n",
    "for x, pair_item in enumerate(flavor):\n",
    "    for y, item in enumerate(matterType):\n",
    "        alpha_dict[(item, pair_item)] = alpha[x][y]\n",
    "        L_dict[(item, pair_item)] = L[x][y]\n",
    "        meanE_dict[(item, pair_item)] = meanE[x][y]\n",
    "\n",
    "print(alpha_dict[('nu', 'e')])\n",
    "print(alpha_dict[('nubar', 'e')])\n",
    "print(alpha_dict[('nu', 'mu')])\n",
    "print(alpha_dict[('nubar', 'mu')])\n",
    "print(alpha_dict[('nu', 'tau')])\n",
    "print(alpha_dict[('nubar', 'tau')])\n",
    "print(L_dict[('nu', 'e')])\n",
    "print(L_dict[('nubar', 'e')])\n",
    "print(L_dict[('nu', 'mu')])\n",
    "print(L_dict[('nubar', 'mu')])\n",
    "print(L_dict[('nu', 'tau')])\n",
    "print(L_dict[('nubar', 'tau')])\n",
    "print(meanE_dict[('nu', 'e')])\n",
    "print(meanE_dict[('nubar', 'e')])\n",
    "print(meanE_dict[('nu', 'mu')])\n",
    "print(meanE_dict[('nubar', 'mu')])\n",
    "print(meanE_dict[('nu', 'tau')])\n",
    "print(meanE_dict[('nubar', 'tau')])"
   ]
  },
  {
   "cell_type": "code",
   "execution_count": null,
   "metadata": {
    "collapsed": true
   },
   "outputs": [],
   "source": [
    "#Prompts user input\n",
    "\n",
    "#distance between supernova and detector on Earth\n",
    "dist = float(raw_input(\"What is the distance between the supernova and Earth? (kpc): \"))\n",
    "\n",
    "#progenitor type, prompt user to enter either 'ONeMg' or 'Fe', still need to make case insensitive \n",
    "p = raw_input(\"What is the progenitor type? Please enter either 'ONeMg' or 'Fe': \")\n",
    "\n",
    "#compactness, prompt user to enter either 2.5 or 5 \n",
    "comp = float(raw_input(\"What is the compactness? Please enter either 2.5 or 5: \"))\n",
    "\n",
    "#accretion timescale - units? \n",
    "timeAcc = float(raw_input(\"What is the accretion timescale? \"))\n",
    "\n",
    "#stiffness parameter prompt \n",
    "stiff = float(raw_input(\"What is the stiffness parameter? \"))\n",
    "\n",
    "#prompt user to enter either NMO or IMO, still need to make case insensitive \n",
    "mass_ordering = raw_input(\"What is the mass ordering? Please enter either NMO or IMO: \")"
   ]
  },
  {
   "cell_type": "code",
   "execution_count": 58,
   "metadata": {
    "collapsed": true
   },
   "outputs": [],
   "source": [
    "#Factorial definition\n",
    "def factorial(n):\n",
    "    if n == 0:\n",
    "        return 1\n",
    "    else:\n",
    "        return n * factorial(n - 1)"
   ]
  },
  {
   "cell_type": "code",
   "execution_count": 59,
   "metadata": {
    "collapsed": true
   },
   "outputs": [],
   "source": [
    "#Float range\n",
    "def frange(start, stop, step = 0.0002):\n",
    "    while start < stop:\n",
    "        yield start\n",
    "        start +=step"
   ]
  },
  {
   "cell_type": "code",
   "execution_count": null,
   "metadata": {
    "collapsed": true
   },
   "outputs": [],
   "source": [
    "#Functions\n",
    "\n",
    "#Creating a textfile called 'data.txt,' will create a new one to write into if it doesn't exist\n",
    "f = open(\"data.txt\", \"w+\")\n",
    "#File-output for energies of neutrinos (tab delimited) - will output from for loop\n",
    "#Can change start, stop, and step later - first testing to see if for loop works and writes a text file\n",
    "for E in frange(0, 0.1002, 0.0002): \n",
    "    flux_e = (L_dict[('nu', 'e')] / meanE_dict[('nu', 'e')]) * ((alpha_dict[('nu', 'e')] + 1) ** (alpha_dict[('nu', 'e')] + 1)) / (meanE_dict[('nu', 'e')] * factorial(alpha_dict[('nu', 'e')])) * ((E / meanE_dict[('nu', 'e')]) ** alpha_dict[('nu', 'e')]) * math.exp(-((alpha_dict[('nu', 'e')] + 1) * E) / meanE_dict[('nu', 'e')])\n",
    "    flux_anti_e = (L_dict[('nubar', 'e')] / meanE_dict[('nubar', 'e')]) * ((alpha_dict[('nubar', 'e')] + 1) ** ((alpha_dict[('nubar', 'e')] + 1)) / ((meanE_dict[('nubar', 'e')] * factorial((alpha_dict[('nubar', 'e')]) * ((E / meanE_dict[('nubar', 'e')]) ** (alpha_dict[('nubar', 'e')]) * math.exp(-(((alpha_dict[('nubar', 'e')] + 1) * E) / meanE_dict[('nubar', 'e')])\n",
    "    flux_mu = (L_dict[('nu', 'mu')] / meanE_dict[('nu', 'mu')]) * ((alpha_dict[('nu', 'mu')] + 1) ** (alpha_dict[('nu', 'mu')] + 1)) / (meanE_dict[('nu', 'mu')] * factorial(alpha_dict[('nu', 'mu')])) * ((E / meanE_dict[('nu', 'mu')]) ** alpha_dict[('nu', 'mu')]) * math.exp(-((alpha_dict[('nu', 'mu')] + 1) * E) / meanE_dict[('nu', 'mu')])\n",
    "    flux_anti_mu = (L_dict[('nubar', 'mu')] / meanE_dict[('nubar', 'mu')]) * ((alpha_dict[('nubar', 'mu')] + 1) ** ((alpha_dict[('nubar', 'mu')] + 1)) / ((meanE_dict[('nubar', 'mu')] * factorial((alpha_dict[('nubar', 'mu')]) * ((E / meanE_dict[('nubar', 'mu')]) ** (alpha_dict[('nubar', 'mu')]) * math.exp(-(((alpha_dict[('nubar', 'mu')] + 1) * E) / meanE_dict[('nubar', 'mu')])\n",
    "    flux_tau = (L_dict[('nu', 'tau')] / meanE_dict[('nu', 'tau')]) * ((alpha_dict[('nu', 'tau')] + 1) ** (alpha_dict[('nu', 'tau')] + 1)) / (meanE_dict[('nu', 'tau')] * factorial(alpha_dict[('nu', 'tau')])) * ((E / meanE_dict[('nu', 'tau')]) ** alpha_dict[('nu', 'tau')]) * math.exp(-((alpha_dict[('nu', 'tau')] + 1) * E) / meanE_dict[('nu', 'tau')])\n",
    "    flux_anti_tau = (L_dict[('nubar', 'tau')] / meanE_dict[('nubar', 'tau')]) * ((alpha_dict[('nubar', 'tau')] + 1) ** ((alpha_dict[('nubar', 'tau')] + 1)) / ((meanE_dict[('nubar', 'tau')] * factorial((alpha_dict[('nubar', 'tau')]) * ((E / meanE_dict[('nubar', 'tau')]) ** (alpha_dict[('nubar', 'tau')]) * math.exp(-(((alpha_dict[('nubar', 'tau')] + 1) * E) / meanE_dict[('nubar', 'tau')])\n",
    "    print(str(E)+ '\\t' + str(flux_e) + '\\t' + str(flux_anti_e) + '\\t' + str(flux_mu) + '\\t' + str(flux_anti_mu) + '\\t' + str(flux_tau) + '\\t' + str(flux_anti_tau))\n",
    "    stringData = str(E)+ '\\t' + str(flux_e) + '\\t' + str(flux_anti_e) + '\\t' + str(flux_mu) + '\\t' + str(flux_anti_mu) + '\\t' + str(flux_tau) + '\\t' + str(flux_anti_tau)\n",
    "    file = open(\"data.txt\", \"a\")\n",
    "    file.write(stringData + '\\n')\n",
    "    file.close()"
   ]
  },
  {
   "cell_type": "code",
   "execution_count": null,
   "metadata": {
    "collapsed": true
   },
   "outputs": [],
   "source": [
    "#Plotting energy and flux of neutrinos/antineutrinos\n",
    "f = open(\"data.txt\")\n",
    "\n",
    "lines = f.readlines()\n",
    "\n",
    "E = []\n",
    "flux_e = []\n",
    "flux_anti_e = []\n",
    "flux_mu = []\n",
    "flux_anti_mu = []\n",
    "flux_tau = []\n",
    "flux_anti_tau = []\n",
    "\n",
    "for line in lines:\n",
    "    E.append(line.split()[0])\n",
    "    \n",
    "for line in lines:\n",
    "    flux_e.append(line.split()[1])\n",
    "    \n",
    "for line in lines:\n",
    "    flux_anti_e.append(line.split()[2])\n",
    "    \n",
    "for line in lines:\n",
    "    flux_mu.append(line.split()[3])\n",
    "    \n",
    "for line in lines:\n",
    "    flux_anti_mu.append(line.split()[4])\n",
    "\n",
    "for line in lines:\n",
    "    flux_tau.append(line.split()[5])\n",
    "    \n",
    "for line in lines:\n",
    "    flux_anti_tau.append(line.split()[6])\n",
    "    \n",
    "f.close()\n",
    "plt.figure()\n",
    "plt.plot(E, flux_e, 'pink', label=\"Electron neutrino\")\n",
    "plt.plot(E, flux_anti_e, 'mediumpurple', label=\"Electron antineutrino\")\n",
    "plt.plot(E, flux_mu, 'lightskyblue', label=\"Mu neutrino\")\n",
    "plt.plot(E, flux_anti_mu, 'silver', label=\"Mu antineutrino\")\n",
    "plt.plot(E, flux_tau, 'gold', label=\"Tau neutrino\")\n",
    "plt.plot(E, flux_anti_tau, 'red', label=\"Tau antineutrino\")\n",
    "plt.legend(bbox_to_anchor=(1.05, 1), loc=2, borderaxespad=0.)\n",
    "plt.title('Neutrino Spectra_001')\n",
    "plt.xlabel(\"Energy\")\n",
    "plt.ylabel(\"Flux\")\n",
    "plt.grid()\n",
    "plt.show()"
   ]
  },
  {
   "cell_type": "code",
   "execution_count": null,
   "metadata": {
    "collapsed": true
   },
   "outputs": [],
   "source": []
  }
 ],
 "metadata": {
  "kernelspec": {
   "display_name": "Python 2",
   "language": "python",
   "name": "python2"
  }
 },
 "nbformat": 4,
 "nbformat_minor": 2
}
