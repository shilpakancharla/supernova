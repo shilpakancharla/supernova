{
 "cells": [
  {
   "cell_type": "code",
   "execution_count": 1,
   "metadata": {
    "collapsed": true
   },
   "outputs": [],
   "source": [
    "import numpy as np \n",
    "import sympy\n",
    "import sympy.physics\n",
    "from sympy.physics import units\n",
    "\n",
    "#Define new energy units\n",
    "units.keV = 1e3*units.eV\n",
    "units.MeV = 1e6*units.eV\n",
    "units.GeV = 1e9*units.eV\n",
    "units.TeV = 1e12*units.eV\n",
    "units.erg = units.g*units.cm**2/units.s**2\n",
    "\n",
    "#Define new distance units\n",
    "units.pc = units.parsec = 3.08568025e18*units.cm\n",
    "units.kpc = units.kiloparsec = 1e3*units.parsec"
   ]
  },
  {
   "cell_type": "code",
   "execution_count": 3,
   "metadata": {
    "collapsed": true
   },
   "outputs": [],
   "source": [
    "#Functions for converting units - convert to cgs\n",
    "\n",
    "#Energy\n",
    "\n",
    "def keV_to_erg(keV):\n",
    "    erg = (keV * 1e3) / (6.242e11)\n",
    "    return erg\n",
    "\n",
    "def MeV_to_erg(MeV):\n",
    "    erg = (MeV * 1e6) / (6.242e11)\n",
    "    return erg\n",
    "\n",
    "def GeV_to_erg(GeV):\n",
    "    erg = (GeV * 1e9) / (6.242e11)\n",
    "    return erg\n",
    "\n",
    "def TeV_to_erg(TeV):\n",
    "    erg = (TeV * 1e12) / (6.242e11)\n",
    "    return erg\n",
    "\n",
    "def Joule_to_erg(J):\n",
    "    erg = (J * 6.252e18) / (6.242e11)\n",
    "    return erg\n",
    "\n",
    "#Distance"
   ]
  },
  {
   "cell_type": "code",
   "execution_count": 4,
   "metadata": {},
   "outputs": [
    {
     "name": "stdout",
     "output_type": "stream",
     "text": [
      "150240.307594\n"
     ]
    }
   ],
   "source": [
    "result = Joule_to_erg(0.015)\n",
    "print(result)"
   ]
  },
  {
   "cell_type": "code",
   "execution_count": null,
   "metadata": {
    "collapsed": true
   },
   "outputs": [],
   "source": []
  }
 ],
 "metadata": {
  "kernelspec": {
   "display_name": "Python 2",
   "language": "python",
   "name": "python2"
  },
  "language_info": {
   "codemirror_mode": {
    "name": "ipython",
    "version": 2
   },
   "file_extension": ".py",
   "mimetype": "text/x-python",
   "name": "python",
   "nbconvert_exporter": "python",
   "pygments_lexer": "ipython2",
   "version": "2.7.13"
  }
 },
 "nbformat": 4,
 "nbformat_minor": 2
}
