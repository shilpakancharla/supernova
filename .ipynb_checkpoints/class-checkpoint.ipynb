{
 "cells": [
  {
   "cell_type": "code",
   "execution_count": 33,
   "metadata": {
    "collapsed": true
   },
   "outputs": [],
   "source": [
    "import math\n",
    "import matplotlib.pyplot as plt\n",
    "from scipy.special import gamma\n",
    "import numpy as np \n",
    "import sympy\n",
    "import sympy.physics\n",
    "from sympy.physics import units"
   ]
  },
  {
   "cell_type": "code",
   "execution_count": 34,
   "metadata": {},
   "outputs": [],
   "source": [
    "class NeutrinoFlux:\n",
    "    \n",
    "        #Class Variables (fields)\n",
    "        \n",
    "        #Enumeration of matter type and flavor of neutrino\n",
    "        matterType = ['nu', 'nubar']\n",
    "        flavor = ['e', 'mu', 'tau']\n",
    "\n",
    "        #Luminosity\n",
    "        L_array = [[1.6e52, 1.6e52],\n",
    "                  [1.6e52, 1.6e52],\n",
    "                  [1.6e52, 1.6e52]]\n",
    "        \n",
    "        #Mean energy, \n",
    "        meanE_array = [[0.015, 0.015],\n",
    "                      [0.015, 0.015],\n",
    "                      [0.015, 0.015]]\n",
    "        \n",
    "        #Alpha (pinch parameters)\n",
    "        alpha_array = [[3, 4.31],\n",
    "                      [6, 6],\n",
    "                      [6, 6]]\n",
    "\n",
    "        #Creating a dictionary that is enumerated\n",
    "        alpha = {}\n",
    "        L = {}\n",
    "        meanE = {}\n",
    "        for x, pair_item in enumerate(flavor):\n",
    "            for y, item in enumerate(matterType):\n",
    "                alpha[(item, pair_item)] = alpha_array[x][y]\n",
    "                L[(item, pair_item)] = L_array[x][y]\n",
    "                meanE[(item, pair_item)] = meanE_array[x][y] \n",
    "                \n",
    "        #Class variables, initializations\n",
    "        flux_e = []\n",
    "        flux_anti_e = []\n",
    "        flux_mu = []\n",
    "        flux_anti_mu = []\n",
    "        flux_tau = []\n",
    "        flux_anti_tau = []\n",
    "                \n",
    "        #Float range\n",
    "        def frange(start, stop, step = 0.0002):\n",
    "            while start < stop:\n",
    "                yield start\n",
    "                start += step\n",
    "                \n",
    "        def flux(energy):\n",
    "        \n",
    "            #Ratio of mean energy and luminosity\n",
    "            ratio_e = (L[('nu', 'e')] / meanE[('nu', 'e')])\n",
    "            ratio_anti_e = (L[('nubar', 'e')] / meanE[('nubar', 'e')])\n",
    "            ratio_mu = (L[('nu', 'mu')] / meanE[('nu', 'mu')])\n",
    "            ratio_anti_mu = (L[('nubar', 'mu')] / meanE[('nubar', 'mu')])\n",
    "            ratio_tau = (L[('nu', 'tau')] / meanE[('nu', 'tau')])\n",
    "            ratio_anti_tau = (L[('nubar', 'tau')] / meanE[('nubar', 'tau')])\n",
    "            \n",
    "            #Numerator\n",
    "            num_e = (alpha[('nu', 'e')] + 1) ** (alpha[('nu', 'e')] + 1)\n",
    "            num_anti_e = (alpha[('nubar', 'e')] + 1) ** (alpha[('nubar', 'e')] + 1)\n",
    "            num_mu = (alpha[('nu', 'mu')] + 1) ** (alpha[('nu', 'mu')] + 1)\n",
    "            num_anti_mu = (alpha[('nubar', 'mu')] + 1) ** (alpha[('nubar', 'mu')] + 1)\n",
    "            num_tau = (alpha[('nu', 'tau')] + 1) ** (alpha[('nu', 'tau')] + 1)\n",
    "            num_anti_tau = (alpha[('nubar', 'tau')] + 1) ** (alpha[('nubar', 'tau')] + 1)\n",
    "            \n",
    "            #Denominator\n",
    "            den_e = (meanE[('nu', 'e')]) * gamma(alpha[('nu', 'e')])\n",
    "            den_anti_e = (meanE[('nubar', 'e')]) * gamma(alpha[('nubar', 'e')])\n",
    "            den_mu = (meanE[('nu', 'mu')]) * gamma(alpha[('nu', 'mu')] + 1)\n",
    "            den_anti_mu = (meanE[('nubar', 'mu')]) * gamma(alpha[('nubar', 'mu')])\n",
    "            den_tau = (meanE[('nu', 'tau')]) * gamma(alpha[('nu', 'tau')] + 1)\n",
    "            den_anti_tau = (meanE[('nubar', 'tau')]) * gamma(alpha[('nubar', 'tau')])\n",
    "            \n",
    "            #Fraction\n",
    "            frac_e = (num_e / den_e)\n",
    "            frac_anti_e = (num_anti_e / den_anti_e)\n",
    "            frac_mu = (num_mu / den_mu)\n",
    "            frac_anti_mu = (num_anti_mu / den_anti_mu)\n",
    "            frac_tau = (num_tau / den_tau)\n",
    "            frac_anti_tau = (num_anti_tau / den_anti_tau)\n",
    "            \n",
    "            for energy in frange(0, 0.1002, 0.0002): \n",
    "                flux_e = (ratio_e) * (frac_e) * ((energy / meanE[('nu', 'e')]) ** (alpha[('nu', 'e')])) * math.exp(-((alpha[('nu', 'e')] + 1) * E) / meanE[('nu', 'e')])\n",
    "                flux_anti_e = (ratio_anti_e) * (frac_anti_e) * ((energy / meanE[('nubar', 'e')]) ** (alpha[('nubar', 'e')])) * math.exp(-((alpha[('nubar', 'e')] + 1) * E) / meanE[('nubar', 'e')])\n",
    "                flux_mu = (ratio_mu) * (frac_mu) * ((energy / meanE[('nu', 'mu')]) ** (alpha[('nu', 'mu')])) * math.exp(-((alpha[('nu', 'mu')] + 1) * E) / meanE[('nu', 'mu')])\n",
    "                flux_anti_mu = (ratio_anti_mu) * (frac_anti_mu) * ((energy / meanE[('nubar', 'mu')]) ** (alpha[('nubar', 'mu')])) * math.exp(-((alpha[('nubar', 'mu')] + 1) * E) / meanE[('nubar', 'mu')])\n",
    "                flux_tau = (ratio_tau) * (frac_tau) * ((energy / meanE[('nu', 'tau')]) ** (alpha[('nu', 'tau')])) * math.exp(-((alpha[('nu', 'tau')] + 1) * E) / meanE[('nu', 'tau')])\n",
    "                flux_anti_tau = (ratio_anti_tau) * (frac_anti_tau) * ((energy / meanE[('nubar', 'tau')]) ** (alpha[('nubar', 'tau')])) * math.exp(-((alpha[('nubar', 'tau')] + 1) * E) / meanE[('nubar', 'tau')])"
   ]
  },
  {
   "cell_type": "code",
   "execution_count": 35,
   "metadata": {},
   "outputs": [
    {
     "data": {
      "text/plain": [
       "<bound method NeutrinoFlux.flux of <__main__.NeutrinoFlux instance at 0x112b4aef0>>"
      ]
     },
     "execution_count": 35,
     "metadata": {},
     "output_type": "execute_result"
    }
   ],
   "source": [
    "nflux = NeutrinoFlux()\n",
    "nflux.flux"
   ]
  },
  {
   "cell_type": "code",
   "execution_count": null,
   "metadata": {
    "collapsed": true
   },
   "outputs": [],
   "source": []
  }
 ],
 "metadata": {
  "kernelspec": {
   "display_name": "Python 2",
   "language": "python",
   "name": "python2"
  },
  "language_info": {
   "codemirror_mode": {
    "name": "ipython",
    "version": 2
   },
   "file_extension": ".py",
   "mimetype": "text/x-python",
   "name": "python",
   "nbconvert_exporter": "python",
   "pygments_lexer": "ipython2",
   "version": "2.7.13"
  }
 },
 "nbformat": 4,
 "nbformat_minor": 2
}
