{
 "cells": [
  {
   "cell_type": "code",
   "execution_count": 2,
   "metadata": {
    "collapsed": true
   },
   "outputs": [],
   "source": [
    "import math"
   ]
  },
  {
   "cell_type": "code",
   "execution_count": null,
   "metadata": {
    "collapsed": true
   },
   "outputs": [],
   "source": [
    "#Enumeration - mass ordering\n",
    "massOrdering = ['NMO', 'IMO']\n",
    "enumMassOrdering = enumerate(massOrdering)\n",
    "\n",
    "#Enumeration - progenitor\n",
    "progenitor = ['ONeMg', 'Fe']\n",
    "enumProgenitor = enumerate(progenitor)\n",
    "\n",
    "#Enumeration - matter type\n",
    "matterType = ['matter', 'antimatter']\n",
    "enumMatterType = enumerate(matterType)\n",
    "\n",
    "#Enumeraiton  - flavor\n",
    "flavor = ['electron', 'mu', 'tau']\n",
    "enumFlavor = enumerate(flavor)"
   ]
  },
  {
   "cell_type": "code",
   "execution_count": 5,
   "metadata": {},
   "outputs": [
    {
     "name": "stdout",
     "output_type": "stream",
     "text": [
      "What is the luminosity?: 343\n",
      "What is the mean energy of electron neutrinos?: 341\n",
      "What is the mean energy of electron antineutrinos?: 132\n",
      "What is the mean energy of mu neutrinos?: 342\n",
      "What is the mean energy of mu antineutrinos?: 134\n",
      "What is the mean energy of tau neutrinos?: 23\n",
      "What is the mean energy of tau antineutrinos?: 321\n"
     ]
    }
   ],
   "source": [
    "#Global variables - luminosities & mean energies (will depend on progenitor)\n",
    "luminosity = float(raw_input(\"What is the luminosity?: \"))\n",
    "meanEnergy_e = float(raw_input(\"What is the mean energy of electron neutrinos?: \"))\n",
    "meanEnergy_anti_e = float(raw_input(\"What is the mean energy of electron antineutrinos?: \"))\n",
    "meanEnergy_mu = float(raw_input(\"What is the mean energy of mu neutrinos?: \"))\n",
    "meanEnergy_anti_mu = float(raw_input(\"What is the mean energy of mu antineutrinos?: \"))\n",
    "meanEnergy_tau = float(raw_input(\"What is the mean energy of tau neutrinos?: \"))\n",
    "meanEnergy_anti_tau = float(raw_input(\"What is the mean energy of tau antineutrinos?: \"))"
   ]
  },
  {
   "cell_type": "code",
   "execution_count": null,
   "metadata": {
    "collapsed": true
   },
   "outputs": [],
   "source": [
    "#distance between supernova and detector on Earth \n",
    "dist = float(raw_input(\"What is the distance between the supernova and Earth? (kpc): \"))\n",
    "\n",
    "#progenitor type, prompt user to enter either 'ONeMg' or 'Fe', still need to make case insensitive \n",
    "p = raw_input(\"What is the progenitor type? Please enter either 'ONeMg' or 'Fe': \")\n",
    "\n",
    "#compactness, prompt user to enter either 2.5 or 5 \n",
    "comp = float(raw_input(\"What is the compactness? Please enter either 2.5 or 5: \"))\n",
    "\n",
    "#accretion timescale - units? \n",
    "timeAcc = float(raw_input(\"What is the accretion timescale? \"))\n",
    "\n",
    "#stiffness parameter prompt \n",
    "stiff = float(raw_input(\"What is the stiffness parameter? \"))\n",
    "\n",
    "#prompt user to enter either NMO or IMO, still need to make case insensitive \n",
    "mass_ordering = raw_input(\"What is the mass ordering? Please enter either NMO or IMO: \")"
   ]
  },
  {
   "cell_type": "code",
   "execution_count": 6,
   "metadata": {
    "collapsed": true
   },
   "outputs": [],
   "source": [
    "#Factorial definition\n",
    "def factorial(n):\n",
    "    if n == 0:\n",
    "        return 1\n",
    "    else:\n",
    "        return n * factorial(n - 1)"
   ]
  },
  {
   "cell_type": "code",
   "execution_count": 7,
   "metadata": {},
   "outputs": [
    {
     "name": "stdout",
     "output_type": "stream",
     "text": [
      "[[3, 3], [2, 2], [2, 2]]\n"
     ]
    }
   ],
   "source": [
    "#2D array of spectral pinching parameters\n",
    "alpha_e = 3 #electron neutrino\n",
    "alpha_anti_e = 3 #electron antineutrino\n",
    "alpha_mu = 2 #mu neutrino, tau neutrino, \n",
    "alpha_anti_mu = 2 #mu antineutrino, tau antineutrino\n",
    "alpha_tau = 2 #mu neutrino, tau neutrino, \n",
    "alpha_anti_tau = 2 #mu antineutrino, tau antineutrino\n",
    "alpha = [[alpha_e, alpha_anti_e], [alpha_mu, alpha_anti_mu], [alpha_tau, alpha_anti_tau]]\n",
    "print(alpha)"
   ]
  },
  {
   "cell_type": "code",
   "execution_count": 11,
   "metadata": {
    "collapsed": true
   },
   "outputs": [],
   "source": [
    "#Float range\n",
    "def frange(start,stop, step=1.0):\n",
    "    while start < stop:\n",
    "        yield start\n",
    "        start +=step"
   ]
  },
  {
   "cell_type": "code",
   "execution_count": 13,
   "metadata": {
    "collapsed": true
   },
   "outputs": [],
   "source": [
    "#Functions\n",
    "\n",
    "#Overall number of neutrinos emitted\n",
    "ratio_e = luminosity / meanEnergy_e\n",
    "ratio_anti_e = luminosity / meanEnergy_anti_e\n",
    "ratio_mu = luminosity / meanEnergy_mu\n",
    "ratio_anti_mu = luminosity / meanEnergy_anti_mu\n",
    "ratio_tau = luminosity / meanEnergy_tau\n",
    "ratio_anti_tau = luminosity / meanEnergy_anti_tau\n",
    "\n",
    "#First numerators\n",
    "num_e = (alpha[0][0] + 1) ** (alpha[0][0] + 1)\n",
    "num_anti_e = (alpha[0][1] + 1) ** (alpha[0][1] + 1)\n",
    "num_mu = (alpha[1][0] + 1) ** (alpha[1][0] + 1)\n",
    "num_anti_mu = (alpha[1][1] + 1) ** (alpha[1][1] + 1)\n",
    "num_tau = (alpha[2][0] + 1) ** (alpha[2][0] + 1)\n",
    "num_anti_tau = (alpha[2][1] + 1) ** (alpha[2][1] + 1)\n",
    "\n",
    "#First denominators, with gamma functions - option to use math.factorial from package?\n",
    "den_e = meanEnergy_e * factorial(alpha[0][0])\n",
    "den_anti_e = meanEnergy_anti_e * factorial(alpha[0][1])\n",
    "den_mu = meanEnergy_mu * factorial(alpha[1][0])\n",
    "den_anti_mu = meanEnergy_anti_mu * factorial(alpha[1][1])\n",
    "den_tau = meanEnergy_tau * factorial(alpha[2][0])\n",
    "den_anti_tau = meanEnergy_anti_tau * factorial(alpha[2][1])\n",
    "\n",
    "#First part of equation\n",
    "frac_e = (num_e) / (den_e)\n",
    "frac_anti_e = (num_anti_e) / (den_anti_e)\n",
    "frac_mu = (num_mu) / (den_mu)\n",
    "frac_anti_mu = (num_anti_mu) / (den_anti_mu)\n",
    "frac_tau = (num_tau) / (den_tau)\n",
    "frac_anti_tau = (num_anti_tau) / (den_anti_tau)\n",
    "\n",
    "for E in frange(250000, 1.00e8, 12500):\n",
    "    energy_e = (ratio_e) * (frac_e) * ((E / meanEnergy_e) ** alpha[0][0]) * math.exp(-((alpha[0][0] + 1) * E) / meanEnergy_e)\n",
    "    energy_anti_e = (ratio_anti_e) * (frac_anti_e) * ((E / meanEnergy_anti_e) ** alpha[0][1]) * math.exp(-((alpha[0][1] + 1) * E) / meanEnergy_anti_e)\n",
    "    energy_mu = (ratio_mu) * (frac_mu) * ((E / meanEnergy_mu) ** alpha[1][0]) * math.exp(-((alpha[1][0] + 1) * E) / meanEnergy_mu)\n",
    "    energy_anti_mu = (ratio_anti_mu) * (frac_anti_mu) * ((E / meanEnergy_anti_mu) ** alpha[1][1]) * math.exp(-((alpha[1][1] + 1) * E) / meanEnergy_anti_mu)\n",
    "    energy_tau = (ratio_tau) * (frac_tau) * ((E / meanEnergy_tau) ** alpha[2][0]) * math.exp(-((alpha[2][0] + 1) * E) / meanEnergy_tau)\n",
    "    energy_anti_tau = (ratio_anti_tau) * (frac_anti_tau) * ((E / meanEnergy_anti_mu) ** alpha[2][1]) * math.exp(-((alpha[2][1] + 1) * E) / meanEnergy_anti_mu)\n",
    "    total_energy = energy_e + energy_anti_e + energy_mu + energy_anti_mu + energy_tau + energy_anti_tau"
   ]
  },
  {
   "cell_type": "code",
   "execution_count": null,
   "metadata": {
    "collapsed": true
   },
   "outputs": [],
   "source": [
    "#Output file (csv)"
   ]
  }
 ],
 "metadata": {
  "kernelspec": {
   "display_name": "Python 2",
   "language": "python",
   "name": "python2"
  },
  "language_info": {
   "codemirror_mode": {
    "name": "ipython",
    "version": 2
   },
   "file_extension": ".py",
   "mimetype": "text/x-python",
   "name": "python",
   "nbconvert_exporter": "python",
   "pygments_lexer": "ipython2",
   "version": "2.7.13"
  }
 },
 "nbformat": 4,
 "nbformat_minor": 2
}
