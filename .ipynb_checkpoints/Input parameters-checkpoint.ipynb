{
 "cells": [
  {
   "cell_type": "code",
   "execution_count": 20,
   "metadata": {
    "collapsed": true
   },
   "outputs": [],
   "source": [
    "import math\n",
    "import numpy as np"
   ]
  },
  {
   "cell_type": "code",
   "execution_count": 2,
   "metadata": {
    "collapsed": true
   },
   "outputs": [],
   "source": [
    "#Enumeration - mass ordering\n",
    "massOrdering = ['NMO', 'IMO']\n",
    "enumMassOrdering = enumerate(massOrdering)\n",
    "\n",
    "#Enumeration - progenitor\n",
    "progenitor = ['ONeMg', 'Fe']\n",
    "enumProgenitor = enumerate(progenitor)\n",
    "\n",
    "#Enumeration - matter type\n",
    "matterType = ['matter', 'antimatter']\n",
    "enumMatterType = enumerate(matterType)\n",
    "\n",
    "#Enumeraiton  - flavor\n",
    "flavor = ['electron', 'mu', 'tau']\n",
    "enumFlavor = enumerate(flavor)"
   ]
  },
  {
   "cell_type": "code",
   "execution_count": 4,
   "metadata": {},
   "outputs": [
    {
     "name": "stdout",
     "output_type": "stream",
     "text": [
      "What is the luminosity?: 56\n",
      "What is the mean energy of electron neutrinos?: 546\n",
      "What is the mean energy of electron antineutrinos?: 25\n",
      "What is the mean energy of mu neutrinos?: 245\n",
      "What is the mean energy of mu antineutrinos?: 425\n",
      "What is the mean energy of tau neutrinos?: 4523\n",
      "What is the mean energy of tau antineutrinos?: 452\n"
     ]
    }
   ],
   "source": [
    "#Global variables - luminosities & mean energies (will depend on progenitor)\n",
    "luminosity = float(raw_input(\"What is the luminosity?: \"))\n",
    "meanEnergy_e = float(raw_input(\"What is the mean energy of electron neutrinos?: \"))\n",
    "meanEnergy_anti_e = float(raw_input(\"What is the mean energy of electron antineutrinos?: \"))\n",
    "meanEnergy_mu = float(raw_input(\"What is the mean energy of mu neutrinos?: \"))\n",
    "meanEnergy_anti_mu = float(raw_input(\"What is the mean energy of mu antineutrinos?: \"))\n",
    "meanEnergy_tau = float(raw_input(\"What is the mean energy of tau neutrinos?: \"))\n",
    "meanEnergy_anti_tau = float(raw_input(\"What is the mean energy of tau antineutrinos?: \"))"
   ]
  },
  {
   "cell_type": "code",
   "execution_count": 5,
   "metadata": {},
   "outputs": [
    {
     "name": "stdout",
     "output_type": "stream",
     "text": [
      "What is the distance between the supernova and Earth? (kpc): 51.4\n",
      "What is the progenitor type? Please enter either 'ONeMg' or 'Fe': Fe\n",
      "What is the compactness? Please enter either 2.5 or 5: 2.5\n",
      "What is the accretion timescale? 67\n",
      "What is the stiffness parameter? 234\n",
      "What is the mass ordering? Please enter either NMO or IMO: NMO\n"
     ]
    }
   ],
   "source": [
    "#distance between supernova and detector on Earth \n",
    "dist = float(raw_input(\"What is the distance between the supernova and Earth? (kpc): \"))\n",
    "\n",
    "#progenitor type, prompt user to enter either 'ONeMg' or 'Fe', still need to make case insensitive \n",
    "p = raw_input(\"What is the progenitor type? Please enter either 'ONeMg' or 'Fe': \")\n",
    "\n",
    "#compactness, prompt user to enter either 2.5 or 5 \n",
    "comp = float(raw_input(\"What is the compactness? Please enter either 2.5 or 5: \"))\n",
    "\n",
    "#accretion timescale - units? \n",
    "timeAcc = float(raw_input(\"What is the accretion timescale? \"))\n",
    "\n",
    "#stiffness parameter prompt \n",
    "stiff = float(raw_input(\"What is the stiffness parameter? \"))\n",
    "\n",
    "#prompt user to enter either NMO or IMO, still need to make case insensitive \n",
    "mass_ordering = raw_input(\"What is the mass ordering? Please enter either NMO or IMO: \")"
   ]
  },
  {
   "cell_type": "code",
   "execution_count": 6,
   "metadata": {
    "collapsed": true
   },
   "outputs": [],
   "source": [
    "#Factorial definition\n",
    "def factorial(n):\n",
    "    if n == 0:\n",
    "        return 1\n",
    "    else:\n",
    "        return n * factorial(n - 1)"
   ]
  },
  {
   "cell_type": "code",
   "execution_count": 7,
   "metadata": {},
   "outputs": [
    {
     "name": "stdout",
     "output_type": "stream",
     "text": [
      "[[3, 3], [2, 2], [2, 2]]\n"
     ]
    }
   ],
   "source": [
    "#2D array of spectral pinching parameters\n",
    "alpha_e = 3 #electron neutrino\n",
    "alpha_anti_e = 3 #electron antineutrino\n",
    "alpha_mu = 2 #mu neutrino, tau neutrino, \n",
    "alpha_anti_mu = 2 #mu antineutrino, tau antineutrino\n",
    "alpha_tau = 2 #mu neutrino, tau neutrino, \n",
    "alpha_anti_tau = 2 #mu antineutrino, tau antineutrino\n",
    "alpha = [[alpha_e, alpha_anti_e], [alpha_mu, alpha_anti_mu], [alpha_tau, alpha_anti_tau]]\n",
    "print(alpha)"
   ]
  },
  {
   "cell_type": "code",
   "execution_count": 8,
   "metadata": {
    "collapsed": true
   },
   "outputs": [],
   "source": [
    "#Float range\n",
    "def frange(start, stop, step = 1):\n",
    "    while start < stop:\n",
    "        yield start\n",
    "        start +=step"
   ]
  },
  {
   "cell_type": "code",
   "execution_count": 26,
   "metadata": {},
   "outputs": [
    {
     "name": "stdout",
     "output_type": "stream",
     "text": [
      "[0.0002087427630042881, 4.888007727940622e-11, 0.00020849208932044135, 2.0727148858097768e-07, 2.3009144270597543e-08, 1.805208572264673e-12, 2.0342365709318868e-08]\n",
      "[0.0014223134891977168, 3.881863198725789e-10, 0.0014213219117040212, 8.189957840408577e-07, 9.138919469362438e-08, 7.216046466741694e-12, 8.079711259464282e-08]\n",
      "[0.004089907232051627, 1.3005658880269355e-09, 0.00408770090723305, 1.820313930361138e-06, 2.0417932343749916e-07, 1.622533909279995e-11, 1.8051477355263867e-07]\n",
      "[0.008260611209065575, 3.060320589430231e-09, 0.0082567323004449, 3.1967293927252065e-06, 3.6043223555131793e-07, 2.882592137518112e-11, 3.18657845888758e-07]\n",
      "[0.013748031090377167, 5.933559731407762e-09, 0.013742037396446914, 4.934100698688273e-06, 5.592140102212177e-07, 4.501063774348366e-11, 4.944006509721173e-07]\n",
      "[0.020243746867009575, 1.0178350737582428e-08, 0.020235211456533647, 7.018634213768364e-06, 7.996039437022297e-07, 6.477234212165734e-11, 7.069291953716778e-07]\n",
      "[0.027393226404977416, 1.6044867557585275e-08, 0.027381737259529425, 9.436877049167074e-06, 1.0806943939091209e-06, 8.810389791750816e-11, 9.55441033459134e-07]\n",
      "[0.034844539451401584, 2.3775536898070135e-08, 0.03482969911500903, 1.2175710099366057e-05, 1.4015906266498739e-06, 1.1499817801221379e-10, 1.239145131464061e-06]\n",
      "[0.04227766789331996, 3.36051823029553e-08, 0.042259093129085754, 1.5222341207381779e-05, 1.7614106634856133e-06, 1.4544806474984922e-10, 1.5572617329669953e-06]\n",
      "[0.04942024197206997, 4.576116611048863e-08, 0.04939756342564489, 1.8564298455497133e-05, 2.1592851312009274e-06, 1.794464499269232e-10, 1.909022225816271e-06]\n",
      "[0.056054021685174364, 6.046352931440895e-08, 0.05602688355495617, 2.2189423579323987e-05, 2.594357112868702e-06, 2.1698623478192474e-10, 2.2936690104545647e-06]\n",
      "[0.06201528838933346, 7.792512935615714e-08, 0.06198334810327055, 2.6085865503085537e-05, 3.065782000493718e-06, 2.5806032998488034e-10, 2.7104553696412106e-06]\n",
      "[0.06719143498124484, 9.835177587477395e-08, 0.06715436288012448, 3.024207399404194e-05, 3.5727273492194198e-06, 3.0266165562692106e-10, 3.158645339556532e-06]\n",
      "[0.07151538184858725, 1.2194236444080915e-07, 0.0714728608756903, 3.464679343401632e-05, 4.114372733082399e-06, 3.507831412098606e-10, 3.637513582274495e-06]\n",
      "[0.07495895111635816, 1.488890083002563e-07, 0.07491067651336422, 3.928905670601159e-05, 4.6899096022993055e-06, 4.024177256357838e-10, 4.14634525959018e-06]\n",
      "[0.07752596513124363, 1.793771681542238e-07, 0.07747164414027291, 4.415817919394144e-05, 5.298541142071005e-06, 4.575583571966445e-10, 4.684435908188657e-06]\n",
      "[0.07924556653941282, 2.1358577999974739e-07, 0.07918491811109228, 4.9243752893530705e-05, 5.9394821328889895e-06, 5.161979935638747e-10, 5.251091316141993e-06]\n",
      "[0.0801660632446629, 2.5168738105685267e-07, 0.08009881775210671, 5.453564063247297e-05, 6.611958812329131e-06, 5.783296017780044e-10, 5.845627400721227e-06]\n",
      "[0.08034946373683749, 2.9384823380667887e-07, 0.08027536269543374, 6.002397039796298e-05, 7.315208738318108e-06, 6.439461582382901e-10, 6.46737008751032e-06]\n"
     ]
    }
   ],
   "source": [
    "#Functions\n",
    "\n",
    "#Overall number of neutrinos emitted\n",
    "ratio_e = luminosity / meanEnergy_e\n",
    "ratio_anti_e = luminosity / meanEnergy_anti_e\n",
    "ratio_mu = luminosity / meanEnergy_mu\n",
    "ratio_anti_mu = luminosity / meanEnergy_anti_mu\n",
    "ratio_tau = luminosity / meanEnergy_tau\n",
    "ratio_anti_tau = luminosity / meanEnergy_anti_tau\n",
    "\n",
    "#First numerators\n",
    "num_e = (alpha[0][0] + 1) ** (alpha[0][0] + 1)\n",
    "num_anti_e = (alpha[0][1] + 1) ** (alpha[0][1] + 1)\n",
    "num_mu = (alpha[1][0] + 1) ** (alpha[1][0] + 1)\n",
    "num_anti_mu = (alpha[1][1] + 1) ** (alpha[1][1] + 1)\n",
    "num_tau = (alpha[2][0] + 1) ** (alpha[2][0] + 1)\n",
    "num_anti_tau = (alpha[2][1] + 1) ** (alpha[2][1] + 1)\n",
    "\n",
    "#First denominators, with gamma functions - option to use math.factorial from package?\n",
    "den_e = meanEnergy_e * factorial(alpha[0][0])\n",
    "den_anti_e = meanEnergy_anti_e * factorial(alpha[0][1])\n",
    "den_mu = meanEnergy_mu * factorial(alpha[1][0])\n",
    "den_anti_mu = meanEnergy_anti_mu * factorial(alpha[1][1])\n",
    "den_tau = meanEnergy_tau * factorial(alpha[2][0])\n",
    "den_anti_tau = meanEnergy_anti_tau * factorial(alpha[2][1])\n",
    "\n",
    "#First part of equation\n",
    "frac_e = (num_e) / (den_e)\n",
    "frac_anti_e = (num_anti_e) / (den_anti_e)\n",
    "frac_mu = (num_mu) / (den_mu)\n",
    "frac_anti_mu = (num_anti_mu) / (den_anti_mu)\n",
    "frac_tau = (num_tau) / (den_tau)\n",
    "frac_anti_tau = (num_anti_tau) / (den_anti_tau)\n",
    "\n",
    "#Creating a textfile called 'data.txt,' will create a new one to write into if it doesn't exist\n",
    "f = open(\"data.txt\", \"w+\")\n",
    "\n",
    "#File-output for energies of neutrinos (tab delimited) - will output from for loop\n",
    "#Can change start, stop, and step later - first testing to see if for loop works and writes a text file\n",
    "for E in frange(1, 20, 1): \n",
    "    energy_e = (ratio_e) * (frac_e) * ((E / meanEnergy_e) ** alpha[0][0]) * math.exp(-((alpha[0][0] + 1) * E) / meanEnergy_e)\n",
    "    energy_anti_e = (ratio_anti_e) * (frac_anti_e) * ((E / meanEnergy_anti_e) ** alpha[0][1]) * math.exp(-((alpha[0][1] + 1) * E) / meanEnergy_anti_e)\n",
    "    energy_mu = (ratio_mu) * (frac_mu) * ((E / meanEnergy_mu) ** alpha[1][0]) * math.exp(-((alpha[1][0] + 1) * E) / meanEnergy_mu)\n",
    "    energy_anti_mu = (ratio_anti_mu) * (frac_anti_mu) * ((E / meanEnergy_anti_mu) ** alpha[1][1]) * math.exp(-((alpha[1][1] + 1) * E) / meanEnergy_anti_mu)\n",
    "    energy_tau = (ratio_tau) * (frac_tau) * ((E / meanEnergy_tau) ** alpha[2][0]) * math.exp(-((alpha[2][0] + 1) * E) / meanEnergy_tau)\n",
    "    energy_anti_tau = (ratio_anti_tau) * (frac_anti_tau) * ((E / meanEnergy_anti_mu) ** alpha[2][1]) * math.exp(-((alpha[2][1] + 1) * E) / meanEnergy_anti_mu)\n",
    "    total_energy = energy_e + energy_anti_e + energy_mu + energy_anti_mu + energy_tau + energy_anti_tau\n",
    "    #Float array - figure out how to write to text file\n",
    "    data = [total_energy, energy_e, energy_anti_e, energy_mu, energy_anti_mu, energy_tau, energy_anti_tau]\n",
    "    print(data)\n",
    "    file = open(\"data.txt\", \"a\")\n",
    "    file.write((str(data)) + '\\n')\n",
    "    file.close()\n"
   ]
  },
  {
   "cell_type": "code",
   "execution_count": null,
   "metadata": {
    "collapsed": true
   },
   "outputs": [],
   "source": []
  }
 ],
 "metadata": {
  "kernelspec": {
   "display_name": "Python 2",
   "language": "python",
   "name": "python2"
  },
  "language_info": {
   "codemirror_mode": {
    "name": "ipython",
    "version": 2
   },
   "file_extension": ".py",
   "mimetype": "text/x-python",
   "name": "python",
   "nbconvert_exporter": "python",
   "pygments_lexer": "ipython2",
   "version": "2.7.13"
  }
 },
 "nbformat": 4,
 "nbformat_minor": 2
}
