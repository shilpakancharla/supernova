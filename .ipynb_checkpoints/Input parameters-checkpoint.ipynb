{
 "cells": [
  {
   "cell_type": "code",
   "execution_count": null,
   "metadata": {
    "collapsed": true
   },
   "outputs": [],
   "source": [
    "#distance between supernova and detector on Earth\n",
    "dist = float(raw_input(\"What is the distance between the supernova and Earth?: \")) \n",
    "#progenitor type, prompt user to enter either 'ONeMg' or 'Fe', still need to make case insensitive\n",
    "p = raw_input(\"What is the progenitor type? Please enter either 'ONeMg' or 'Fe': \") \n",
    "#compactness, prompt user to enter either 2.5 or 5\n",
    "comp = float(raw_input(\"What is the compactness? Please enter either 2.5 or 5: \")) \n",
    "#prompt user to enter either NMO or IMO, still need to make case insensitive\n",
    "mass_ordering = raw_input(\"What is the mass ordering? Please enter either NMO or IMO: \") "
   ]
  }
 ],
 "metadata": {
  "kernelspec": {
   "display_name": "Python 2",
   "language": "python",
   "name": "python2"
  },
  "language_info": {
   "codemirror_mode": {
    "name": "ipython",
    "version": 2
   },
   "file_extension": ".py",
   "mimetype": "text/x-python",
   "name": "python",
   "nbconvert_exporter": "python",
   "pygments_lexer": "ipython2",
   "version": "2.7.13"
  }
 },
 "nbformat": 4,
 "nbformat_minor": 2
}
