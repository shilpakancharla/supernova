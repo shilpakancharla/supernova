{
 "cells": [
  {
   "cell_type": "code",
   "execution_count": 42,
   "metadata": {},
   "outputs": [
    {
     "name": "stdout",
     "output_type": "stream",
     "text": [
      "What is the luminosity of electron neutrinos?: 123\n",
      "What is the luminosity of electron antineutrinos?: 4564\n",
      "What is the luminosity of mu neutrinos?: 654\n",
      "What is the luminosity of mu antineutrinos?: 234\n",
      "What is the luminosity of tau neutrinos?: 332\n",
      "What is the luminosity of tau antineutrinos?: 45345\n",
      "What is the mean energy of electron neutrinos?: 54534\n",
      "What is the mean energy of electron antineutrinos?: 23432\n",
      "What is the mean energy of mu neutrinos?: 2345\n",
      "What is the mean energy of mu antineutrinos?: 6564\n",
      "What is the mean energy of tau neutrinos?: 342\n",
      "What is the mean energy of tau antineutrinos?: 12\n"
     ]
    }
   ],
   "source": [
    "matterType = ['nu', 'nubar']\n",
    "flavor = ['e', 'mu', 'tau']\n",
    "\n",
    "L_e = float(raw_input(\"What is the luminosity of electron neutrinos?: \"))\n",
    "L_anti_e = float(raw_input(\"What is the luminosity of electron antineutrinos?: \"))\n",
    "L_mu = float(raw_input(\"What is the luminosity of mu neutrinos?: \"))\n",
    "L_anti_mu = float(raw_input(\"What is the luminosity of mu antineutrinos?: \"))\n",
    "L_tau = float(raw_input(\"What is the luminosity of tau neutrinos?: \"))\n",
    "L_anti_tau = float(raw_input(\"What is the luminosity of tau antineutrinos?: \"))\n",
    "meanE_e = float(raw_input(\"What is the mean energy of electron neutrinos?: \"))\n",
    "meanE_anti_e = float(raw_input(\"What is the mean energy of electron antineutrinos?: \"))\n",
    "meanE_mu = float(raw_input(\"What is the mean energy of mu neutrinos?: \"))\n",
    "meanE_anti_mu = float(raw_input(\"What is the mean energy of mu antineutrinos?: \"))\n",
    "meanE_tau = float(raw_input(\"What is the mean energy of tau neutrinos?: \"))\n",
    "meanE_anti_tau = float(raw_input(\"What is the mean energy of tau antineutrinos?: \"))\n",
    "\n",
    "L = [[L_e, L_anti_e],\n",
    "      [L_mu, L_anti_mu],\n",
    "      [L_tau, L_anti_tau]]\n",
    "\n",
    "meanE = [[meanE_e, meanE_anti_e],\n",
    "      [meanE_mu, meanE_anti_mu],\n",
    "      [meanE_tau, meanE_anti_tau]]\n",
    "\n",
    "alpha = [[3, 3],\n",
    "      [2, 2],\n",
    "      [2, 2]]\n",
    "\n",
    "alpha_dict = {}\n",
    "L_dict = {}\n",
    "meanE_dict = {}\n",
    "for x, pair_item in enumerate(flavor):\n",
    "    for y, item in enumerate(matterType):\n",
    "        alpha_dict[(item, pair_item)] = alpha[x][y]\n",
    "        L_dict[(item, pair_item)] = L[x][y]\n",
    "        meanE_dict[(item, pair_item)] = meanE[x][y]"
   ]
  },
  {
   "cell_type": "code",
   "execution_count": 43,
   "metadata": {},
   "outputs": [
    {
     "name": "stdout",
     "output_type": "stream",
     "text": [
      "3\n",
      "3\n",
      "2\n",
      "2\n",
      "2\n",
      "2\n",
      "123.0\n",
      "4564.0\n",
      "654.0\n",
      "234.0\n",
      "332.0\n",
      "45345.0\n",
      "54534.0\n",
      "23432.0\n",
      "2345.0\n",
      "6564.0\n",
      "342.0\n",
      "12.0\n"
     ]
    }
   ],
   "source": [
    "print(alpha_dict[('nu', 'e')])\n",
    "print(alpha_dict[('nubar', 'e')])\n",
    "print(alpha_dict[('nu', 'mu')])\n",
    "print(alpha_dict[('nubar', 'mu')])\n",
    "print(alpha_dict[('nu', 'tau')])\n",
    "print(alpha_dict[('nubar', 'tau')])\n",
    "print(L_dict[('nu', 'e')])\n",
    "print(L_dict[('nubar', 'e')])\n",
    "print(L_dict[('nu', 'mu')])\n",
    "print(L_dict[('nubar', 'mu')])\n",
    "print(L_dict[('nu', 'tau')])\n",
    "print(L_dict[('nubar', 'tau')])\n",
    "print(meanE_dict[('nu', 'e')])\n",
    "print(meanE_dict[('nubar', 'e')])\n",
    "print(meanE_dict[('nu', 'mu')])\n",
    "print(meanE_dict[('nubar', 'mu')])\n",
    "print(meanE_dict[('nu', 'tau')])\n",
    "print(meanE_dict[('nubar', 'tau')])"
   ]
  },
  {
   "cell_type": "code",
   "execution_count": null,
   "metadata": {
    "collapsed": true
   },
   "outputs": [],
   "source": []
  }
 ],
 "metadata": {
  "kernelspec": {
   "display_name": "Python 2",
   "language": "python",
   "name": "python2"
  },
  "language_info": {
   "codemirror_mode": {
    "name": "ipython",
    "version": 2
   },
   "file_extension": ".py",
   "mimetype": "text/x-python",
   "name": "python",
   "nbconvert_exporter": "python",
   "pygments_lexer": "ipython2",
   "version": "2.7.13"
  }
 },
 "nbformat": 4,
 "nbformat_minor": 2
}
